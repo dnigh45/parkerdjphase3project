{
  "cells": [
    {
      "cell_type": "code",
      "execution_count": 3,
      "metadata": {
        "id": "xWaCLe7hNKo4"
      },
      "outputs": [],
      "source": [
        "import pandas as pd\n",
        "import numpy as np\n",
        "from sklearn.linear_model import LogisticRegression\n",
        "from sklearn.model_selection import train_test_split, cross_val_score, GridSearchCV\n",
        "#from sklearn.metrics import confusion_matrix, plot_confusion_matrix,\\\n",
        "    #precision_score, recall_score, accuracy_score, f1_score, log_loss,\\\n",
        "    #roc_curve, roc_auc_score, classification_report\n",
        "from sklearn.preprocessing import StandardScaler, OneHotEncoder, OrdinalEncoder, MinMaxScaler\n",
        "from sklearn.tree import DecisionTreeClassifier\n",
        "from sklearn.impute import SimpleImputer\n",
        "from sklearn.pipeline import Pipeline\n",
        "from sklearn.compose import ColumnTransformer\n",
        "import seaborn as sns\n",
        "from matplotlib import pyplot as plt\n",
        "\n",
        "#Google Colab Imports\n",
        "# Use sklearn.metrics.ConfusionMatrixDisplay instead of plot_confusion_matrix\n",
        "from sklearn.metrics import confusion_matrix,\\\n",
        "    precision_score, recall_score, accuracy_score, f1_score, log_loss,\\\n",
        "    roc_curve, roc_auc_score, classification_report"
      ]
    },
    {
      "cell_type": "code",
      "execution_count": 5,
      "metadata": {
        "id": "8KoYxwcZNKo5"
      },
      "outputs": [],
      "source": [
        "X_init = pd.read_csv('/content/sample_data/training_set_features.csv', index_col=0)\n",
        "y_init = pd.read_csv('/content/sample_data/training_set_labels.csv', index_col=0)"
      ]
    },
    {
      "cell_type": "code",
      "source": [
        "y_init.info()"
      ],
      "metadata": {
        "id": "ZoXfz0SQD8y-"
      },
      "execution_count": null,
      "outputs": []
    },
    {
      "cell_type": "code",
      "execution_count": null,
      "metadata": {
        "id": "4R8DmjFsNKo5"
      },
      "outputs": [],
      "source": [
        "X_init.info()"
      ]
    },
    {
      "cell_type": "code",
      "execution_count": null,
      "metadata": {
        "id": "AMuyPy8UNKo6"
      },
      "outputs": [],
      "source": [
        "(X_init.isna().sum()/len(X_init)).sort_values(ascending=False)"
      ]
    },
    {
      "cell_type": "code",
      "execution_count": 9,
      "metadata": {
        "id": "_uFEtIy3NKo6"
      },
      "outputs": [],
      "source": [
        "X_drop = X_init.drop(['employment_occupation', 'employment_industry', 'health_insurance'], axis=1)"
      ]
    },
    {
      "cell_type": "code",
      "source": [],
      "metadata": {
        "id": "U-tFHbzUGNPf"
      },
      "execution_count": null,
      "outputs": []
    },
    {
      "cell_type": "markdown",
      "source": [
        "## **Visualizations**"
      ],
      "metadata": {
        "id": "fQtMiM1IGN5y"
      }
    },
    {
      "cell_type": "code",
      "source": [
        "y_cat = y_init['seasonal_vaccine'].apply(lambda x: 'Vaccine'if x == 1 else 'No Vaccine')"
      ],
      "metadata": {
        "id": "0B8OtQr-TQYy"
      },
      "execution_count": 142,
      "outputs": []
    },
    {
      "cell_type": "code",
      "source": [
        "# Showing how many people got seasonal vaccine\n",
        "ax = sns.countplot(x=y_cat)\n",
        "\n",
        "ax.set(ylabel='# of People',\n",
        "       title='Seasonal Flu Vaccine')"
      ],
      "metadata": {
        "colab": {
          "base_uri": "https://localhost:8080/",
          "height": 313
        },
        "id": "E244XhGDAuph",
        "outputId": "5e1be102-75c7-4b69-cfa5-0ef91ba725e3"
      },
      "execution_count": 161,
      "outputs": [
        {
          "output_type": "execute_result",
          "data": {
            "text/plain": [
              "[Text(0, 0.5, '# of People'), Text(0.5, 1.0, 'Seasonal Flu Vaccine')]"
            ]
          },
          "metadata": {},
          "execution_count": 161
        },
        {
          "output_type": "display_data",
          "data": {
            "text/plain": [
              "<Figure size 432x288 with 1 Axes>"
            ],
            "image/png": "[encoded data removed]"
          },
          "metadata": {
            "needs_background": "light"
          }
        }
      ]
    },
    {
      "cell_type": "code",
      "source": [
        "# Showing breakdown of each race surveyed\n",
        "\n",
        "sns.countplot(x=X_init[\"race\"])"
      ],
      "metadata": {
        "id": "RUmiiQ8dEd5D"
      },
      "execution_count": null,
      "outputs": []
    },
    {
      "cell_type": "code",
      "source": [
        "# Showing breakdown of sex surveyed\n",
        "\n",
        "sns.countplot(x=X_init[\"sex\"])"
      ],
      "metadata": {
        "id": "0EWDhoK6E2jc"
      },
      "execution_count": null,
      "outputs": []
    },
    {
      "cell_type": "code",
      "source": [
        "# Showing breakdown of age surveyed\n",
        "\n",
        "sns.countplot(x=X_init[\"age_group\"])"
      ],
      "metadata": {
        "id": "01qtY-5NFP4K"
      },
      "execution_count": null,
      "outputs": []
    },
    {
      "cell_type": "code",
      "source": [
        "# Showing breakdown of the household income the people surveyed\n",
        "\n",
        "sns.countplot(x=X_init[\"income_poverty\"])"
      ],
      "metadata": {
        "id": "IzE_aSdfGaEx"
      },
      "execution_count": null,
      "outputs": []
    },
    {
      "cell_type": "code",
      "source": [
        "# Showing breakdown of age surveyed\n",
        "\n",
        "sns.countplot(x=X_init[\"age_group\"])"
      ],
      "metadata": {
        "id": "HcD0Uq1vGgfi"
      },
      "execution_count": null,
      "outputs": []
    },
    {
      "cell_type": "code",
      "source": [
        "# 55+ makes up almost 45% of the data. 80% White. 60% Female.\n",
        "\n",
        "#X_drop.age_group.value_counts(normalize=True)\n",
        "#X_drop.race.value_counts(normalize=True)\n",
        "#X_drop.sex.value_counts(normalize=True)\n",
        "X_drop.rent_or_own.value_counts(normalize=True)\n",
        "\n"
      ],
      "metadata": {
        "id": "wL4oPH3bYScF"
      },
      "execution_count": null,
      "outputs": []
    },
    {
      "cell_type": "code",
      "source": [
        "# Combining training_set_labels and training_set_features. Created a vaccinated and unvaccinated df.\n",
        "\n",
        "Z_init = y_init\n",
        "frames = [X_init,Z_init]\n",
        "data_combined = pd.concat(frames,axis=1)\n",
        "\n",
        "#df.loc[df['col1'] == value]\n",
        "\n",
        "vaccinated_df = data_combined.loc[data_combined['seasonal_vaccine'] == 1]\n",
        "\n",
        "unvaccinated_df = data_combined.loc[data_combined['seasonal_vaccine'] == 0]"
      ],
      "metadata": {
        "id": "PsfIL9hOPxz_"
      },
      "execution_count": 26,
      "outputs": []
    },
    {
      "cell_type": "code",
      "source": [
        "vaccinated_df['marital_status'].value_counts(normalize=True)"
      ],
      "metadata": {
        "colab": {
          "base_uri": "https://localhost:8080/"
        },
        "id": "5PTadBZaPwIk",
        "outputId": "156f1ad8-b61b-4e98-803c-9cfde4ac13ec"
      },
      "execution_count": 138,
      "outputs": [
        {
          "output_type": "execute_result",
          "data": {
            "text/plain": [
              "Married        0.563557\n",
              "Not Married    0.436443\n",
              "Name: marital_status, dtype: float64"
            ]
          },
          "metadata": {},
          "execution_count": 138
        }
      ]
    },
    {
      "cell_type": "code",
      "source": [
        "vaccinated_df.groupby(['age_group']).mean()"
      ],
      "metadata": {
        "colab": {
          "base_uri": "https://localhost:8080/",
          "height": 400
        },
        "id": "wdod3oNRXRBi",
        "outputId": "dd9cce45-2201-4ffb-a087-3380dffeceed"
      },
      "execution_count": 157,
      "outputs": [
        {
          "output_type": "execute_result",
          "data": {
            "text/plain": [
              "               h1n1_concern  h1n1_knowledge  behavioral_antiviral_meds  \\\n",
              "age_group                                                                \n",
              "18 - 34 Years      1.564016        1.363452                   0.095270   \n",
              "35 - 44 Years      1.849964        1.475951                   0.081237   \n",
              "45 - 54 Years      1.870000        1.472805                   0.058178   \n",
              "55 - 64 Years      1.825458        1.422724                   0.036985   \n",
              "65+ Years          1.730786        1.184562                   0.031004   \n",
              "\n",
              "               behavioral_avoidance  behavioral_face_mask  \\\n",
              "age_group                                                   \n",
              "18 - 34 Years              0.750676              0.086370   \n",
              "35 - 44 Years              0.775937              0.089017   \n",
              "45 - 54 Years              0.790153              0.092813   \n",
              "55 - 64 Years              0.782686              0.083714   \n",
              "65+ Years                  0.735974              0.074050   \n",
              "\n",
              "               behavioral_wash_hands  behavioral_large_gatherings  \\\n",
              "age_group                                                           \n",
              "18 - 34 Years               0.865813                     0.318028   \n",
              "35 - 44 Years               0.892396                     0.369706   \n",
              "45 - 54 Years               0.899524                     0.348571   \n",
              "55 - 64 Years               0.880056                     0.392807   \n",
              "65+ Years                   0.848379                     0.440856   \n",
              "\n",
              "               behavioral_outside_home  behavioral_touch_face  \\\n",
              "age_group                                                       \n",
              "18 - 34 Years                 0.286968               0.707235   \n",
              "35 - 44 Years                 0.316547               0.760230   \n",
              "45 - 54 Years                 0.327143               0.758226   \n",
              "55 - 64 Years                 0.363284               0.751058   \n",
              "65+ Years                     0.421718               0.722417   \n",
              "\n",
              "               doctor_recc_h1n1  ...  opinion_h1n1_vacc_effective  \\\n",
              "age_group                        ...                                \n",
              "18 - 34 Years          0.374553  ...                     4.075549   \n",
              "35 - 44 Years          0.355674  ...                     4.101164   \n",
              "45 - 54 Years          0.307385  ...                     4.163628   \n",
              "55 - 64 Years          0.319315  ...                     4.139056   \n",
              "65+ Years              0.261297  ...                     3.976943   \n",
              "\n",
              "               opinion_h1n1_risk  opinion_h1n1_sick_from_vacc  \\\n",
              "age_group                                                       \n",
              "18 - 34 Years           2.848214                     2.543523   \n",
              "35 - 44 Years           2.985423                     2.546647   \n",
              "45 - 54 Years           2.826233                     2.519406   \n",
              "55 - 64 Years           2.689472                     2.373050   \n",
              "65+ Years               2.353407                     2.265158   \n",
              "\n",
              "               opinion_seas_vacc_effective  opinion_seas_risk  \\\n",
              "age_group                                                       \n",
              "18 - 34 Years                     4.261168           3.356306   \n",
              "35 - 44 Years                     4.354792           3.480205   \n",
              "45 - 54 Years                     4.424664           3.462056   \n",
              "55 - 64 Years                     4.483837           3.389343   \n",
              "65+ Years                         4.519065           3.087351   \n",
              "\n",
              "               opinion_seas_sick_from_vacc  household_adults  \\\n",
              "age_group                                                      \n",
              "18 - 34 Years                     2.217481          1.130345   \n",
              "35 - 44 Years                     2.136164          0.969410   \n",
              "45 - 54 Years                     2.088023          0.991404   \n",
              "55 - 64 Years                     2.030195          0.864627   \n",
              "65+ Years                         1.912726          0.611063   \n",
              "\n",
              "               household_children  h1n1_vaccine  seasonal_vaccine  \n",
              "age_group                                                          \n",
              "18 - 34 Years            0.994483      0.458221               1.0  \n",
              "35 - 44 Years            1.446468      0.418638               1.0  \n",
              "45 - 54 Years            0.585005      0.400095               1.0  \n",
              "55 - 64 Years            0.126231      0.418425               1.0  \n",
              "65+ Years                0.042733      0.304121               1.0  \n",
              "\n",
              "[5 rows x 25 columns]"
            ],
            "text/html": [
              "\n",
              "  <div id=\"df-4311ba0e-26af-40b8-9211-9e5e0fdd58c0\">\n",
              "    <div class=\"colab-df-container\">\n",
              "      <div>\n",
              "<style scoped>\n",
              "    .dataframe tbody tr th:only-of-type {\n",
              "        vertical-align: middle;\n",
              "    }\n",
              "\n",
              "    .dataframe tbody tr th {\n",
              "        vertical-align: top;\n",
              "    }\n",
              "\n",
              "    .dataframe thead th {\n",
              "        text-align: right;\n",
              "    }\n",
              "</style>\n",
              "<table border=\"1\" class=\"dataframe\">\n",
              "  <thead>\n",
              "    <tr style=\"text-align: right;\">\n",
              "      <th></th>\n",
              "      <th>h1n1_concern</th>\n",
              "      <th>h1n1_knowledge</th>\n",
              "      <th>behavioral_antiviral_meds</th>\n",
              "      <th>behavioral_avoidance</th>\n",
              "      <th>behavioral_face_mask</th>\n",
              "      <th>behavioral_wash_hands</th>\n",
              "      <th>behavioral_large_gatherings</th>\n",
              "      <th>behavioral_outside_home</th>\n",
              "      <th>behavioral_touch_face</th>\n",
              "      <th>doctor_recc_h1n1</th>\n",
              "      <th>...</th>\n",
              "      <th>opinion_h1n1_vacc_effective</th>\n",
              "      <th>opinion_h1n1_risk</th>\n",
              "      <th>opinion_h1n1_sick_from_vacc</th>\n",
              "      <th>opinion_seas_vacc_effective</th>\n",
              "      <th>opinion_seas_risk</th>\n",
              "      <th>opinion_seas_sick_from_vacc</th>\n",
              "      <th>household_adults</th>\n",
              "      <th>household_children</th>\n",
              "      <th>h1n1_vaccine</th>\n",
              "      <th>seasonal_vaccine</th>\n",
              "    </tr>\n",
              "    <tr>\n",
              "      <th>age_group</th>\n",
              "      <th></th>\n",
              "      <th></th>\n",
              "      <th></th>\n",
              "      <th></th>\n",
              "      <th></th>\n",
              "      <th></th>\n",
              "      <th></th>\n",
              "      <th></th>\n",
              "      <th></th>\n",
              "      <th></th>\n",
              "      <th></th>\n",
              "      <th></th>\n",
              "      <th></th>\n",
              "      <th></th>\n",
              "      <th></th>\n",
              "      <th></th>\n",
              "      <th></th>\n",
              "      <th></th>\n",
              "      <th></th>\n",
              "      <th></th>\n",
              "      <th></th>\n",
              "    </tr>\n",
              "  </thead>\n",
              "  <tbody>\n",
              "    <tr>\n",
              "      <th>18 - 34 Years</th>\n",
              "      <td>1.564016</td>\n",
              "      <td>1.363452</td>\n",
              "      <td>0.095270</td>\n",
              "      <td>0.750676</td>\n",
              "      <td>0.086370</td>\n",
              "      <td>0.865813</td>\n",
              "      <td>0.318028</td>\n",
              "      <td>0.286968</td>\n",
              "      <td>0.707235</td>\n",
              "      <td>0.374553</td>\n",
              "      <td>...</td>\n",
              "      <td>4.075549</td>\n",
              "      <td>2.848214</td>\n",
              "      <td>2.543523</td>\n",
              "      <td>4.261168</td>\n",
              "      <td>3.356306</td>\n",
              "      <td>2.217481</td>\n",
              "      <td>1.130345</td>\n",
              "      <td>0.994483</td>\n",
              "      <td>0.458221</td>\n",
              "      <td>1.0</td>\n",
              "    </tr>\n",
              "    <tr>\n",
              "      <th>35 - 44 Years</th>\n",
              "      <td>1.849964</td>\n",
              "      <td>1.475951</td>\n",
              "      <td>0.081237</td>\n",
              "      <td>0.775937</td>\n",
              "      <td>0.089017</td>\n",
              "      <td>0.892396</td>\n",
              "      <td>0.369706</td>\n",
              "      <td>0.316547</td>\n",
              "      <td>0.760230</td>\n",
              "      <td>0.355674</td>\n",
              "      <td>...</td>\n",
              "      <td>4.101164</td>\n",
              "      <td>2.985423</td>\n",
              "      <td>2.546647</td>\n",
              "      <td>4.354792</td>\n",
              "      <td>3.480205</td>\n",
              "      <td>2.136164</td>\n",
              "      <td>0.969410</td>\n",
              "      <td>1.446468</td>\n",
              "      <td>0.418638</td>\n",
              "      <td>1.0</td>\n",
              "    </tr>\n",
              "    <tr>\n",
              "      <th>45 - 54 Years</th>\n",
              "      <td>1.870000</td>\n",
              "      <td>1.472805</td>\n",
              "      <td>0.058178</td>\n",
              "      <td>0.790153</td>\n",
              "      <td>0.092813</td>\n",
              "      <td>0.899524</td>\n",
              "      <td>0.348571</td>\n",
              "      <td>0.327143</td>\n",
              "      <td>0.758226</td>\n",
              "      <td>0.307385</td>\n",
              "      <td>...</td>\n",
              "      <td>4.163628</td>\n",
              "      <td>2.826233</td>\n",
              "      <td>2.519406</td>\n",
              "      <td>4.424664</td>\n",
              "      <td>3.462056</td>\n",
              "      <td>2.088023</td>\n",
              "      <td>0.991404</td>\n",
              "      <td>0.585005</td>\n",
              "      <td>0.400095</td>\n",
              "      <td>1.0</td>\n",
              "    </tr>\n",
              "    <tr>\n",
              "      <th>55 - 64 Years</th>\n",
              "      <td>1.825458</td>\n",
              "      <td>1.422724</td>\n",
              "      <td>0.036985</td>\n",
              "      <td>0.782686</td>\n",
              "      <td>0.083714</td>\n",
              "      <td>0.880056</td>\n",
              "      <td>0.392807</td>\n",
              "      <td>0.363284</td>\n",
              "      <td>0.751058</td>\n",
              "      <td>0.319315</td>\n",
              "      <td>...</td>\n",
              "      <td>4.139056</td>\n",
              "      <td>2.689472</td>\n",
              "      <td>2.373050</td>\n",
              "      <td>4.483837</td>\n",
              "      <td>3.389343</td>\n",
              "      <td>2.030195</td>\n",
              "      <td>0.864627</td>\n",
              "      <td>0.126231</td>\n",
              "      <td>0.418425</td>\n",
              "      <td>1.0</td>\n",
              "    </tr>\n",
              "    <tr>\n",
              "      <th>65+ Years</th>\n",
              "      <td>1.730786</td>\n",
              "      <td>1.184562</td>\n",
              "      <td>0.031004</td>\n",
              "      <td>0.735974</td>\n",
              "      <td>0.074050</td>\n",
              "      <td>0.848379</td>\n",
              "      <td>0.440856</td>\n",
              "      <td>0.421718</td>\n",
              "      <td>0.722417</td>\n",
              "      <td>0.261297</td>\n",
              "      <td>...</td>\n",
              "      <td>3.976943</td>\n",
              "      <td>2.353407</td>\n",
              "      <td>2.265158</td>\n",
              "      <td>4.519065</td>\n",
              "      <td>3.087351</td>\n",
              "      <td>1.912726</td>\n",
              "      <td>0.611063</td>\n",
              "      <td>0.042733</td>\n",
              "      <td>0.304121</td>\n",
              "      <td>1.0</td>\n",
              "    </tr>\n",
              "  </tbody>\n",
              "</table>\n",
              "<p>5 rows × 25 columns</p>\n",
              "</div>\n",
              "      <button class=\"colab-df-convert\" onclick=\"convertToInteractive('df-4311ba0e-26af-40b8-9211-9e5e0fdd58c0')\"\n",
              "              title=\"Convert this dataframe to an interactive table.\"\n",
              "              style=\"display:none;\">\n",
              "        \n",
              "  <svg xmlns=\"http://www.w3.org/2000/svg\" height=\"24px\"viewBox=\"0 0 24 24\"\n",
              "       width=\"24px\">\n",
              "    <path d=\"M0 0h24v24H0V0z\" fill=\"none\"/>\n",
              "    <path d=\"M18.56 5.44l.94 2.06.94-2.06 2.06-.94-2.06-.94-.94-2.06-.94 2.06-2.06.94zm-11 1L8.5 8.5l.94-2.06 2.06-.94-2.06-.94L8.5 2.5l-.94 2.06-2.06.94zm10 10l.94 2.06.94-2.06 2.06-.94-2.06-.94-.94-2.06-.94 2.06-2.06.94z\"/><path d=\"M17.41 7.96l-1.37-1.37c-.4-.4-.92-.59-1.43-.59-.52 0-1.04.2-1.43.59L10.3 9.45l-7.72 7.72c-.78.78-.78 2.05 0 2.83L4 21.41c.39.39.9.59 1.41.59.51 0 1.02-.2 1.41-.59l7.78-7.78 2.81-2.81c.8-.78.8-2.07 0-2.86zM5.41 20L4 18.59l7.72-7.72 1.47 1.35L5.41 20z\"/>\n",
              "  </svg>\n",
              "      </button>\n",
              "      \n",
              "  <style>\n",
              "    .colab-df-container {\n",
              "      display:flex;\n",
              "      flex-wrap:wrap;\n",
              "      gap: 12px;\n",
              "    }\n",
              "\n",
              "    .colab-df-convert {\n",
              "      background-color: #E8F0FE;\n",
              "      border: none;\n",
              "      border-radius: 50%;\n",
              "      cursor: pointer;\n",
              "      display: none;\n",
              "      fill: #1967D2;\n",
              "      height: 32px;\n",
              "      padding: 0 0 0 0;\n",
              "      width: 32px;\n",
              "    }\n",
              "\n",
              "    .colab-df-convert:hover {\n",
              "      background-color: #E2EBFA;\n",
              "      box-shadow: 0px 1px 2px rgba(60, 64, 67, 0.3), 0px 1px 3px 1px rgba(60, 64, 67, 0.15);\n",
              "      fill: #174EA6;\n",
              "    }\n",
              "\n",
              "    [theme=dark] .colab-df-convert {\n",
              "      background-color: #3B4455;\n",
              "      fill: #D2E3FC;\n",
              "    }\n",
              "\n",
              "    [theme=dark] .colab-df-convert:hover {\n",
              "      background-color: #434B5C;\n",
              "      box-shadow: 0px 1px 3px 1px rgba(0, 0, 0, 0.15);\n",
              "      filter: drop-shadow(0px 1px 2px rgba(0, 0, 0, 0.3));\n",
              "      fill: #FFFFFF;\n",
              "    }\n",
              "  </style>\n",
              "\n",
              "      <script>\n",
              "        const buttonEl =\n",
              "          document.querySelector('#df-4311ba0e-26af-40b8-9211-9e5e0fdd58c0 button.colab-df-convert');\n",
              "        buttonEl.style.display =\n",
              "          google.colab.kernel.accessAllowed ? 'block' : 'none';\n",
              "\n",
              "        async function convertToInteractive(key) {\n",
              "          const element = document.querySelector('#df-4311ba0e-26af-40b8-9211-9e5e0fdd58c0');\n",
              "          const dataTable =\n",
              "            await google.colab.kernel.invokeFunction('convertToInteractive',\n",
              "                                                     [key], {});\n",
              "          if (!dataTable) return;\n",
              "\n",
              "          const docLinkHtml = 'Like what you see? Visit the ' +\n",
              "            '<a target=\"_blank\" href=https://colab.research.google.com/notebooks/data_table.ipynb>data table notebook</a>'\n",
              "            + ' to learn more about interactive tables.';\n",
              "          element.innerHTML = '';\n",
              "          dataTable['output_type'] = 'display_data';\n",
              "          await google.colab.output.renderOutput(dataTable, element);\n",
              "          const docLink = document.createElement('div');\n",
              "          docLink.innerHTML = docLinkHtml;\n",
              "          element.appendChild(docLink);\n",
              "        }\n",
              "      </script>\n",
              "    </div>\n",
              "  </div>\n",
              "  "
            ]
          },
          "metadata": {},
          "execution_count": 157
        }
      ]
    },
    {
      "cell_type": "code",
      "source": [
        "unvaccinated_df.groupby(['age_group']).mean()"
      ],
      "metadata": {
        "colab": {
          "base_uri": "https://localhost:8080/",
          "height": 400
        },
        "id": "-2mOmeqVYgDa",
        "outputId": "5cb9983a-0416-4b6b-e054-0f418afb3cae"
      },
      "execution_count": 154,
      "outputs": [
        {
          "output_type": "execute_result",
          "data": {
            "text/plain": [
              "               h1n1_concern  h1n1_knowledge  behavioral_antiviral_meds  \\\n",
              "age_group                                                                \n",
              "18 - 34 Years      1.411591        1.142090                   0.072215   \n",
              "35 - 44 Years      1.563904        1.256851                   0.064898   \n",
              "45 - 54 Years      1.526988        1.279233                   0.042451   \n",
              "55 - 64 Years      1.495572        1.248335                   0.028729   \n",
              "65+ Years          1.461224        1.019892                   0.017520   \n",
              "\n",
              "               behavioral_avoidance  behavioral_face_mask  \\\n",
              "age_group                                                   \n",
              "18 - 34 Years              0.684493              0.056032   \n",
              "35 - 44 Years              0.717917              0.057504   \n",
              "45 - 54 Years              0.715752              0.057079   \n",
              "55 - 64 Years              0.697657              0.058542   \n",
              "65+ Years                  0.646952              0.056951   \n",
              "\n",
              "               behavioral_wash_hands  behavioral_large_gatherings  \\\n",
              "age_group                                                           \n",
              "18 - 34 Years               0.767311                     0.288208   \n",
              "35 - 44 Years               0.807347                     0.319184   \n",
              "45 - 54 Years               0.805112                     0.320115   \n",
              "55 - 64 Years               0.788660                     0.343184   \n",
              "65+ Years                   0.762354                     0.409725   \n",
              "\n",
              "               behavioral_outside_home  behavioral_touch_face  \\\n",
              "age_group                                                       \n",
              "18 - 34 Years                 0.282148               0.579812   \n",
              "35 - 44 Years                 0.307912               0.642127   \n",
              "45 - 54 Years                 0.307323               0.641920   \n",
              "55 - 64 Years                 0.308742               0.645841   \n",
              "65+ Years                     0.388262               0.631318   \n",
              "\n",
              "               doctor_recc_h1n1  ...  opinion_h1n1_vacc_effective  \\\n",
              "age_group                        ...                                \n",
              "18 - 34 Years          0.153193  ...                     3.719083   \n",
              "35 - 44 Years          0.142282  ...                     3.655717   \n",
              "45 - 54 Years          0.130053  ...                     3.654994   \n",
              "55 - 64 Years          0.140625  ...                     3.624674   \n",
              "65+ Years              0.140729  ...                     3.598906   \n",
              "\n",
              "               opinion_h1n1_risk  opinion_h1n1_sick_from_vacc  \\\n",
              "age_group                                                       \n",
              "18 - 34 Years           2.242978                     2.349180   \n",
              "35 - 44 Years           2.197423                     2.395842   \n",
              "45 - 54 Years           2.036917                     2.324368   \n",
              "55 - 64 Years           1.942207                     2.282252   \n",
              "65+ Years               1.920018                     2.245317   \n",
              "\n",
              "               opinion_seas_vacc_effective  opinion_seas_risk  \\\n",
              "age_group                                                       \n",
              "18 - 34 Years                     3.693593           2.376991   \n",
              "35 - 44 Years                     3.598166           2.269311   \n",
              "45 - 54 Years                     3.615335           2.128906   \n",
              "55 - 64 Years                     3.678772           2.115024   \n",
              "65+ Years                         3.698217           2.117836   \n",
              "\n",
              "               opinion_seas_sick_from_vacc  household_adults  \\\n",
              "age_group                                                      \n",
              "18 - 34 Years                     2.220969          1.179367   \n",
              "35 - 44 Years                     2.248114          0.966625   \n",
              "45 - 54 Years                     2.211350          0.981648   \n",
              "55 - 64 Years                     2.165478          0.801619   \n",
              "65+ Years                         2.106422          0.583333   \n",
              "\n",
              "               household_children  h1n1_vaccine  seasonal_vaccine  \n",
              "age_group                                                          \n",
              "18 - 34 Years            0.888858      0.083356               0.0  \n",
              "35 - 44 Years            1.354610      0.072157               0.0  \n",
              "45 - 54 Years            0.614295      0.057079               0.0  \n",
              "55 - 64 Years            0.147221      0.059213               0.0  \n",
              "65+ Years                0.066756      0.066726               0.0  \n",
              "\n",
              "[5 rows x 25 columns]"
            ],
            "text/html": [
              "\n",
              "  <div id=\"df-92fb28a2-272c-4046-ae24-9cddc6f4633e\">\n",
              "    <div class=\"colab-df-container\">\n",
              "      <div>\n",
              "<style scoped>\n",
              "    .dataframe tbody tr th:only-of-type {\n",
              "        vertical-align: middle;\n",
              "    }\n",
              "\n",
              "    .dataframe tbody tr th {\n",
              "        vertical-align: top;\n",
              "    }\n",
              "\n",
              "    .dataframe thead th {\n",
              "        text-align: right;\n",
              "    }\n",
              "</style>\n",
              "<table border=\"1\" class=\"dataframe\">\n",
              "  <thead>\n",
              "    <tr style=\"text-align: right;\">\n",
              "      <th></th>\n",
              "      <th>h1n1_concern</th>\n",
              "      <th>h1n1_knowledge</th>\n",
              "      <th>behavioral_antiviral_meds</th>\n",
              "      <th>behavioral_avoidance</th>\n",
              "      <th>behavioral_face_mask</th>\n",
              "      <th>behavioral_wash_hands</th>\n",
              "      <th>behavioral_large_gatherings</th>\n",
              "      <th>behavioral_outside_home</th>\n",
              "      <th>behavioral_touch_face</th>\n",
              "      <th>doctor_recc_h1n1</th>\n",
              "      <th>...</th>\n",
              "      <th>opinion_h1n1_vacc_effective</th>\n",
              "      <th>opinion_h1n1_risk</th>\n",
              "      <th>opinion_h1n1_sick_from_vacc</th>\n",
              "      <th>opinion_seas_vacc_effective</th>\n",
              "      <th>opinion_seas_risk</th>\n",
              "      <th>opinion_seas_sick_from_vacc</th>\n",
              "      <th>household_adults</th>\n",
              "      <th>household_children</th>\n",
              "      <th>h1n1_vaccine</th>\n",
              "      <th>seasonal_vaccine</th>\n",
              "    </tr>\n",
              "    <tr>\n",
              "      <th>age_group</th>\n",
              "      <th></th>\n",
              "      <th></th>\n",
              "      <th></th>\n",
              "      <th></th>\n",
              "      <th></th>\n",
              "      <th></th>\n",
              "      <th></th>\n",
              "      <th></th>\n",
              "      <th></th>\n",
              "      <th></th>\n",
              "      <th></th>\n",
              "      <th></th>\n",
              "      <th></th>\n",
              "      <th></th>\n",
              "      <th></th>\n",
              "      <th></th>\n",
              "      <th></th>\n",
              "      <th></th>\n",
              "      <th></th>\n",
              "      <th></th>\n",
              "      <th></th>\n",
              "    </tr>\n",
              "  </thead>\n",
              "  <tbody>\n",
              "    <tr>\n",
              "      <th>18 - 34 Years</th>\n",
              "      <td>1.411591</td>\n",
              "      <td>1.142090</td>\n",
              "      <td>0.072215</td>\n",
              "      <td>0.684493</td>\n",
              "      <td>0.056032</td>\n",
              "      <td>0.767311</td>\n",
              "      <td>0.288208</td>\n",
              "      <td>0.282148</td>\n",
              "      <td>0.579812</td>\n",
              "      <td>0.153193</td>\n",
              "      <td>...</td>\n",
              "      <td>3.719083</td>\n",
              "      <td>2.242978</td>\n",
              "      <td>2.349180</td>\n",
              "      <td>3.693593</td>\n",
              "      <td>2.376991</td>\n",
              "      <td>2.220969</td>\n",
              "      <td>1.179367</td>\n",
              "      <td>0.888858</td>\n",
              "      <td>0.083356</td>\n",
              "      <td>0.0</td>\n",
              "    </tr>\n",
              "    <tr>\n",
              "      <th>35 - 44 Years</th>\n",
              "      <td>1.563904</td>\n",
              "      <td>1.256851</td>\n",
              "      <td>0.064898</td>\n",
              "      <td>0.717917</td>\n",
              "      <td>0.057504</td>\n",
              "      <td>0.807347</td>\n",
              "      <td>0.319184</td>\n",
              "      <td>0.307912</td>\n",
              "      <td>0.642127</td>\n",
              "      <td>0.142282</td>\n",
              "      <td>...</td>\n",
              "      <td>3.655717</td>\n",
              "      <td>2.197423</td>\n",
              "      <td>2.395842</td>\n",
              "      <td>3.598166</td>\n",
              "      <td>2.269311</td>\n",
              "      <td>2.248114</td>\n",
              "      <td>0.966625</td>\n",
              "      <td>1.354610</td>\n",
              "      <td>0.072157</td>\n",
              "      <td>0.0</td>\n",
              "    </tr>\n",
              "    <tr>\n",
              "      <th>45 - 54 Years</th>\n",
              "      <td>1.526988</td>\n",
              "      <td>1.279233</td>\n",
              "      <td>0.042451</td>\n",
              "      <td>0.715752</td>\n",
              "      <td>0.057079</td>\n",
              "      <td>0.805112</td>\n",
              "      <td>0.320115</td>\n",
              "      <td>0.307323</td>\n",
              "      <td>0.641920</td>\n",
              "      <td>0.130053</td>\n",
              "      <td>...</td>\n",
              "      <td>3.654994</td>\n",
              "      <td>2.036917</td>\n",
              "      <td>2.324368</td>\n",
              "      <td>3.615335</td>\n",
              "      <td>2.128906</td>\n",
              "      <td>2.211350</td>\n",
              "      <td>0.981648</td>\n",
              "      <td>0.614295</td>\n",
              "      <td>0.057079</td>\n",
              "      <td>0.0</td>\n",
              "    </tr>\n",
              "    <tr>\n",
              "      <th>55 - 64 Years</th>\n",
              "      <td>1.495572</td>\n",
              "      <td>1.248335</td>\n",
              "      <td>0.028729</td>\n",
              "      <td>0.697657</td>\n",
              "      <td>0.058542</td>\n",
              "      <td>0.788660</td>\n",
              "      <td>0.343184</td>\n",
              "      <td>0.308742</td>\n",
              "      <td>0.645841</td>\n",
              "      <td>0.140625</td>\n",
              "      <td>...</td>\n",
              "      <td>3.624674</td>\n",
              "      <td>1.942207</td>\n",
              "      <td>2.282252</td>\n",
              "      <td>3.678772</td>\n",
              "      <td>2.115024</td>\n",
              "      <td>2.165478</td>\n",
              "      <td>0.801619</td>\n",
              "      <td>0.147221</td>\n",
              "      <td>0.059213</td>\n",
              "      <td>0.0</td>\n",
              "    </tr>\n",
              "    <tr>\n",
              "      <th>65+ Years</th>\n",
              "      <td>1.461224</td>\n",
              "      <td>1.019892</td>\n",
              "      <td>0.017520</td>\n",
              "      <td>0.646952</td>\n",
              "      <td>0.056951</td>\n",
              "      <td>0.762354</td>\n",
              "      <td>0.409725</td>\n",
              "      <td>0.388262</td>\n",
              "      <td>0.631318</td>\n",
              "      <td>0.140729</td>\n",
              "      <td>...</td>\n",
              "      <td>3.598906</td>\n",
              "      <td>1.920018</td>\n",
              "      <td>2.245317</td>\n",
              "      <td>3.698217</td>\n",
              "      <td>2.117836</td>\n",
              "      <td>2.106422</td>\n",
              "      <td>0.583333</td>\n",
              "      <td>0.066756</td>\n",
              "      <td>0.066726</td>\n",
              "      <td>0.0</td>\n",
              "    </tr>\n",
              "  </tbody>\n",
              "</table>\n",
              "<p>5 rows × 25 columns</p>\n",
              "</div>\n",
              "      <button class=\"colab-df-convert\" onclick=\"convertToInteractive('df-92fb28a2-272c-4046-ae24-9cddc6f4633e')\"\n",
              "              title=\"Convert this dataframe to an interactive table.\"\n",
              "              style=\"display:none;\">\n",
              "        \n",
              "  <svg xmlns=\"http://www.w3.org/2000/svg\" height=\"24px\"viewBox=\"0 0 24 24\"\n",
              "       width=\"24px\">\n",
              "    <path d=\"M0 0h24v24H0V0z\" fill=\"none\"/>\n",
              "    <path d=\"M18.56 5.44l.94 2.06.94-2.06 2.06-.94-2.06-.94-.94-2.06-.94 2.06-2.06.94zm-11 1L8.5 8.5l.94-2.06 2.06-.94-2.06-.94L8.5 2.5l-.94 2.06-2.06.94zm10 10l.94 2.06.94-2.06 2.06-.94-2.06-.94-.94-2.06-.94 2.06-2.06.94z\"/><path d=\"M17.41 7.96l-1.37-1.37c-.4-.4-.92-.59-1.43-.59-.52 0-1.04.2-1.43.59L10.3 9.45l-7.72 7.72c-.78.78-.78 2.05 0 2.83L4 21.41c.39.39.9.59 1.41.59.51 0 1.02-.2 1.41-.59l7.78-7.78 2.81-2.81c.8-.78.8-2.07 0-2.86zM5.41 20L4 18.59l7.72-7.72 1.47 1.35L5.41 20z\"/>\n",
              "  </svg>\n",
              "      </button>\n",
              "      \n",
              "  <style>\n",
              "    .colab-df-container {\n",
              "      display:flex;\n",
              "      flex-wrap:wrap;\n",
              "      gap: 12px;\n",
              "    }\n",
              "\n",
              "    .colab-df-convert {\n",
              "      background-color: #E8F0FE;\n",
              "      border: none;\n",
              "      border-radius: 50%;\n",
              "      cursor: pointer;\n",
              "      display: none;\n",
              "      fill: #1967D2;\n",
              "      height: 32px;\n",
              "      padding: 0 0 0 0;\n",
              "      width: 32px;\n",
              "    }\n",
              "\n",
              "    .colab-df-convert:hover {\n",
              "      background-color: #E2EBFA;\n",
              "      box-shadow: 0px 1px 2px rgba(60, 64, 67, 0.3), 0px 1px 3px 1px rgba(60, 64, 67, 0.15);\n",
              "      fill: #174EA6;\n",
              "    }\n",
              "\n",
              "    [theme=dark] .colab-df-convert {\n",
              "      background-color: #3B4455;\n",
              "      fill: #D2E3FC;\n",
              "    }\n",
              "\n",
              "    [theme=dark] .colab-df-convert:hover {\n",
              "      background-color: #434B5C;\n",
              "      box-shadow: 0px 1px 3px 1px rgba(0, 0, 0, 0.15);\n",
              "      filter: drop-shadow(0px 1px 2px rgba(0, 0, 0, 0.3));\n",
              "      fill: #FFFFFF;\n",
              "    }\n",
              "  </style>\n",
              "\n",
              "      <script>\n",
              "        const buttonEl =\n",
              "          document.querySelector('#df-92fb28a2-272c-4046-ae24-9cddc6f4633e button.colab-df-convert');\n",
              "        buttonEl.style.display =\n",
              "          google.colab.kernel.accessAllowed ? 'block' : 'none';\n",
              "\n",
              "        async function convertToInteractive(key) {\n",
              "          const element = document.querySelector('#df-92fb28a2-272c-4046-ae24-9cddc6f4633e');\n",
              "          const dataTable =\n",
              "            await google.colab.kernel.invokeFunction('convertToInteractive',\n",
              "                                                     [key], {});\n",
              "          if (!dataTable) return;\n",
              "\n",
              "          const docLinkHtml = 'Like what you see? Visit the ' +\n",
              "            '<a target=\"_blank\" href=https://colab.research.google.com/notebooks/data_table.ipynb>data table notebook</a>'\n",
              "            + ' to learn more about interactive tables.';\n",
              "          element.innerHTML = '';\n",
              "          dataTable['output_type'] = 'display_data';\n",
              "          await google.colab.output.renderOutput(dataTable, element);\n",
              "          const docLink = document.createElement('div');\n",
              "          docLink.innerHTML = docLinkHtml;\n",
              "          element.appendChild(docLink);\n",
              "        }\n",
              "      </script>\n",
              "    </div>\n",
              "  </div>\n",
              "  "
            ]
          },
          "metadata": {},
          "execution_count": 154
        }
      ]
    },
    {
      "cell_type": "code",
      "source": [
        "unvaccinated_df['marital_status'].value_counts(normalize=True)"
      ],
      "metadata": {
        "colab": {
          "base_uri": "https://localhost:8080/"
        },
        "id": "hO1bCcbItRGe",
        "outputId": "8cafa697-bb8d-4fa8-f2ad-986269a30448"
      },
      "execution_count": 139,
      "outputs": [
        {
          "output_type": "execute_result",
          "data": {
            "text/plain": [
              "Married        0.511184\n",
              "Not Married    0.488816\n",
              "Name: marital_status, dtype: float64"
            ]
          },
          "metadata": {},
          "execution_count": 139
        }
      ]
    },
    {
      "cell_type": "markdown",
      "source": [
        "# Behavioral Insights on people that did NOT get the seasonal flu vaccination\n",
        "\n",
        "*   ∼50% concerned about h1n1\n",
        "*   ∼90% felt they had at least a little knowledge on h1n1\n",
        "*   ∼95% have taken antiviral medications\n",
        "*   ∼70% Has avoided close contact with others with flu-like symptoms\n",
        "*   ∼5% bought a face mask\n",
        "*   ∼80% frequently washed hands or used hand sanitizer\n",
        "*   ∼32% reduced time at large gatherings.\n",
        "*   ∼31% reduced contact with people outside of own household\n",
        "*   ∼62% avoided touching eyes, nose, or mouth\n",
        "*   ∼15% h1n1 vaccine was recommended by doctor\n",
        "*   ∼16% seasonal flu vaccine was recommended by doctor\n",
        "*   ∼20% had a chronic medical condition\n",
        "*   ∼8% regular close contact with a child under the age of six months\n",
        "*   ∼8% Is a healthcare worker\n",
        "\n",
        "# Opinions\n",
        "* ∼65% felt the h1n1 vaccine was at least somewhat effective, 20% felt they didn't know effective it was\n",
        "*   ∼20% felt that the risk of getting sick with H1N1 flu without vaccine was somewhat high, ∼4% didn't know\n",
        "*   ∼29% were at least somewhat worried of getting sick from taking H1N1 vaccine, ∼1% felt they didn't know\n",
        "*   ∼72% felt the seasonal flu vaccine was at least somewhat effective, 6% felt they didn't know if it was effective\n",
        "*   ∼23% felt the risk risk of getting sick with seasonal flu without vaccine was at least somewhat high, ∼2% didn't know what they felt the risk was\n",
        "*   ∼25% were at least somewhat worried of getting sick from taking seasonal flu vaccine, 1% didn't know if they were worried\n",
        "\n",
        "\n",
        "# Demographic Insights\n",
        "*   ∼15% were 65+, 40% between 45-64, 32% 44 and under\n",
        "*   ∼37% were college grads, 29% some college, 24% high school, 10% less than high school\n",
        "*   ∼76% White, 10% Black, 6% Other/Multiple, 8% Hispanic\n",
        "*   ∼55% female, 44% male\n"
      ],
      "metadata": {
        "id": "SQlM1a1WuMZ6"
      }
    },
    {
      "cell_type": "markdown",
      "source": [
        "# Behavioral Insights on people that got the seasonal flu vaccination\n",
        "\n",
        "*   ∼60% concerned about h1n1\n",
        "*   ∼90% felt they had at least a little knowledge on h1n1\n",
        "*   ∼95% have taken antiviral medications\n",
        "*   ∼75% Has avoided close contact with others with flu-like symptoms\n",
        "*   ∼10% bought a face mask\n",
        "*   ∼87% frequently washed hands or used hand sanitizer\n",
        "*   ∼40% reduced time at large gatherings.\n",
        "*   ∼36% reduced contact with people outside of own household\n",
        "*   ∼74% avoided touching eyes, nose, or mouth\n",
        "*   ∼30% h1n1 vaccine was recommended by doctor\n",
        "*   ∼50% seasonal flu vaccine was recommended by doctor\n",
        "*   ∼36% had a chronic medical condition\n",
        "*   ∼8% regular close contact with a child under the age of six months\n",
        "*   ∼15% Is a healthcare worker\n",
        "\n",
        "# Opinions\n",
        "*   ∼77% felt the h1n1 vaccine was at least somewhat effective, 16% felt they didn't know effective it was\n",
        "*   ∼35% felt that the risk of getting sick with H1N1 flu without vaccine was somewhat high, ∼5% didn't know\n",
        "*   ∼31% were at least somewhat worried of getting sick from taking H1N1 vaccine, ∼1% felt they didn't know\n",
        "*   ∼92% felt the seasonal flu vaccine was at least somewhat effective, 3% felt they didn't know if it was effective\n",
        "*   ∼59% felt the risk  of getting sick with seasonal flu without vaccine was at least somewhat high, ∼3% didn't know what they felt the risk was\n",
        "*   ∼23% were at least somewhat worried of getting sick from taking seasonal flu vaccine, 0% didn't know if they were worried\n",
        "\n",
        "\n",
        "# Demographic Insights\n",
        "*   ∼37% were 65+, 38% between 45-64, 20% 44 and under\n",
        "*   ∼43% were college grads, 27% some college, 22% high school, 8% less than high school\n",
        "*   ∼84% White, 5% Black, 5% Other/Multiple, 5% Hispanic\n",
        "*   ∼64% female, 36% male"
      ],
      "metadata": {
        "id": "KPvFANNLQg35"
      }
    },
    {
      "cell_type": "markdown",
      "source": [
        "### **Correlations**"
      ],
      "metadata": {
        "id": "KNxF6ng9GibZ"
      }
    },
    {
      "cell_type": "code",
      "execution_count": 76,
      "metadata": {
        "colab": {
          "base_uri": "https://localhost:8080/"
        },
        "id": "O_u9b4UWNKo6",
        "outputId": "4bbaa5cb-9d79-4149-8eee-5b631cb159ab"
      },
      "outputs": [
        {
          "output_type": "execute_result",
          "data": {
            "text/plain": [
              "doctor_recc_h1n1               0.393890\n",
              "opinion_h1n1_risk              0.323265\n",
              "opinion_h1n1_vacc_effective    0.269347\n",
              "opinion_seas_risk              0.258571\n",
              "doctor_recc_seasonal           0.209864\n",
              "opinion_seas_vacc_effective    0.179272\n",
              "health_worker                  0.169768\n",
              "h1n1_concern                   0.121929\n",
              "h1n1_knowledge                 0.117951\n",
              "chronic_med_condition          0.095207\n",
              "opinion_h1n1_sick_from_vacc    0.075091\n",
              "behavioral_wash_hands          0.074712\n",
              "behavioral_touch_face          0.071648\n",
              "behavioral_face_mask           0.070498\n",
              "child_under_6_months           0.066962\n",
              "behavioral_avoidance           0.047690\n",
              "behavioral_antiviral_meds      0.040608\n",
              "behavioral_outside_home        0.021768\n",
              "behavioral_large_gatherings    0.017822\n",
              "opinion_seas_sick_from_vacc    0.008360\n",
              "household_adults               0.007545\n",
              "household_children            -0.003320\n",
              "dtype: float64"
            ]
          },
          "metadata": {},
          "execution_count": 76
        }
      ],
      "source": [
        "X_drop.corrwith(y_init['h1n1_vaccine']).sort_values(ascending=False)"
      ]
    },
    {
      "cell_type": "code",
      "execution_count": 77,
      "metadata": {
        "colab": {
          "base_uri": "https://localhost:8080/"
        },
        "id": "58iGXU0PNKo6",
        "outputId": "d1d0bdd8-a453-41c5-87d1-17b51a71b1c3"
      },
      "outputs": [
        {
          "output_type": "execute_result",
          "data": {
            "text/plain": [
              "opinion_seas_risk              0.390106\n",
              "doctor_recc_seasonal           0.369190\n",
              "opinion_seas_vacc_effective    0.361875\n",
              "opinion_h1n1_risk              0.216625\n",
              "opinion_h1n1_vacc_effective    0.205072\n",
              "doctor_recc_h1n1               0.198607\n",
              "chronic_med_condition          0.170174\n",
              "h1n1_concern                   0.154828\n",
              "health_worker                  0.127311\n",
              "behavioral_touch_face          0.120228\n",
              "h1n1_knowledge                 0.120152\n",
              "behavioral_wash_hands          0.112414\n",
              "behavioral_avoidance           0.076395\n",
              "behavioral_large_gatherings    0.064025\n",
              "behavioral_outside_home        0.053509\n",
              "behavioral_face_mask           0.050083\n",
              "opinion_h1n1_sick_from_vacc    0.027404\n",
              "child_under_6_months           0.012097\n",
              "behavioral_antiviral_meds      0.006277\n",
              "opinion_seas_sick_from_vacc   -0.061510\n",
              "household_adults              -0.064840\n",
              "household_children            -0.114614\n",
              "dtype: float64"
            ]
          },
          "metadata": {},
          "execution_count": 77
        }
      ],
      "source": [
        "X_drop.corrwith(y_init['seasonal_vaccine']).sort_values(ascending=False)"
      ]
    },
    {
      "cell_type": "code",
      "execution_count": null,
      "metadata": {
        "id": "hFCf6kKNNKo7"
      },
      "outputs": [],
      "source": [
        "y_init.info()"
      ]
    },
    {
      "cell_type": "code",
      "execution_count": null,
      "metadata": {
        "id": "9MFZICw-NKo7"
      },
      "outputs": [],
      "source": [
        "y_init['h1n1_vaccine'].value_counts(normalize=True)"
      ]
    },
    {
      "cell_type": "code",
      "execution_count": null,
      "metadata": {
        "id": "GYHJ3oRJNKo7"
      },
      "outputs": [],
      "source": [
        "y_init['seasonal_vaccine'].value_counts(normalize=True)"
      ]
    },
    {
      "cell_type": "code",
      "execution_count": null,
      "metadata": {
        "id": "pPp55FRnNKo7"
      },
      "outputs": [],
      "source": [
        "y_drop = y_init.drop('h1n1_vaccine', axis=1)"
      ]
    },
    {
      "cell_type": "code",
      "execution_count": null,
      "metadata": {
        "id": "zR49MmlRNKo7"
      },
      "outputs": [],
      "source": [
        "y_drop"
      ]
    },
    {
      "cell_type": "code",
      "execution_count": null,
      "metadata": {
        "id": "XFZthGcQNKo8"
      },
      "outputs": [],
      "source": [
        "X_drop.corrwith(y_drop['seasonal_vaccine']).sort_values(ascending=False)"
      ]
    },
    {
      "cell_type": "code",
      "source": [],
      "metadata": {
        "id": "3zSZdiEvGq5P"
      },
      "execution_count": null,
      "outputs": []
    },
    {
      "cell_type": "markdown",
      "source": [
        "### **Modelling**"
      ],
      "metadata": {
        "id": "j07HI4d9GsKg"
      }
    },
    {
      "cell_type": "code",
      "execution_count": null,
      "metadata": {
        "id": "Rgda2y60NKo8"
      },
      "outputs": [],
      "source": [
        "X_train, X_test, y_train, y_test = train_test_split(X_drop, y_drop, random_state=50)"
      ]
    },
    {
      "cell_type": "code",
      "execution_count": null,
      "metadata": {
        "id": "3zw1Qk-QNKo8"
      },
      "outputs": [],
      "source": [
        "X_train"
      ]
    },
    {
      "cell_type": "code",
      "source": [
        "X_train['race'].value_counts()"
      ],
      "metadata": {
        "id": "N35y5N6k6irB"
      },
      "execution_count": null,
      "outputs": []
    },
    {
      "cell_type": "code",
      "execution_count": null,
      "metadata": {
        "id": "iqzf_OMwNKo8"
      },
      "outputs": [],
      "source": [
        "X_train_nums = X_train.select_dtypes(include=pd.Float64Dtype)\n",
        "X_train_cat = X_train.select_dtypes(include=object) "
      ]
    },
    {
      "cell_type": "code",
      "execution_count": null,
      "metadata": {
        "id": "mWDUFUgfNKo8"
      },
      "outputs": [],
      "source": [
        "X_train_nums.isna().sum().sort_values(ascending=False)"
      ]
    },
    {
      "cell_type": "code",
      "execution_count": null,
      "metadata": {
        "id": "Gr44Oz0JNKo8"
      },
      "outputs": [],
      "source": [
        "numerical_pipeline = Pipeline(steps=[\n",
        "    ('impute_nums', SimpleImputer(strategy='median')),\n",
        "    ('scaler', StandardScaler())])\n",
        "#describe why median was chose\n",
        "categorical_pipeline = Pipeline(steps=[\n",
        "    ('impute_cat', SimpleImputer(strategy='most_frequent')),\n",
        "    ('encode', OrdinalEncoder())])\n",
        "\n",
        "trans = ColumnTransformer(transformers=[\n",
        "    ('numerical', numerical_pipeline, X_train_nums.columns),\n",
        "    ('categorical', categorical_pipeline, X_train_cat.columns)\n",
        "])"
      ]
    },
    {
      "cell_type": "code",
      "execution_count": null,
      "metadata": {
        "id": "dm72T9p4NKo8"
      },
      "outputs": [],
      "source": [
        "simple_model_pipe = Pipeline(steps=[\n",
        "    ('trans', trans),\n",
        "    ('tree', DecisionTreeClassifier(max_depth=2, random_state=50))\n",
        "    ])"
      ]
    },
    {
      "cell_type": "code",
      "execution_count": null,
      "metadata": {
        "id": "OHaNWYxXNKo9"
      },
      "outputs": [],
      "source": [
        "simple_model_pipe.fit(X_train, y_train)"
      ]
    },
    {
      "cell_type": "code",
      "execution_count": null,
      "metadata": {
        "id": "CIpiOyU9NKo9"
      },
      "outputs": [],
      "source": [
        "simple_model_pipe.score(X_train, y_train)"
      ]
    },
    {
      "cell_type": "code",
      "execution_count": null,
      "metadata": {
        "id": "QeENZzXANKo9"
      },
      "outputs": [],
      "source": [
        "simple_model_pipe.score(X_test, y_test)"
      ]
    },
    {
      "cell_type": "code",
      "execution_count": null,
      "metadata": {
        "id": "ADV6iq5HNKo9"
      },
      "outputs": [],
      "source": [
        "simple_preds = simple_model_pipe.predict(X_test)\n",
        "print(f'This is our f1 score: {f1_score(y_test, simple_preds)}')\n",
        "print(f'This is our roc-auc score: {roc_auc_score(y_test, simple_preds)}')\n",
        "print(f'This is our precision score: {precision_score(y_test, simple_preds)}')\n",
        "print(f'This is our recall score: {recall_score(y_test, simple_preds)}')"
      ]
    },
    {
      "cell_type": "code",
      "execution_count": null,
      "metadata": {
        "id": "lD0Vy95lNKo9"
      },
      "outputs": [],
      "source": [
        "simple_importance = simple_model_pipe.named_steps['tree'].feature_importances_\n",
        "pd.Series(simple_importance, index=X_train.columns).sort_values(ascending=False)"
      ]
    },
    {
      "cell_type": "code",
      "execution_count": null,
      "metadata": {
        "id": "2835KZLBNKo9"
      },
      "outputs": [],
      "source": [
        "trans2 = ColumnTransformer(transformers=[\n",
        "    ('numerical', numerical_pipeline, X_train[['opinion_seas_vacc_effective', 'doctor_recc_seasonal']].columns),\n",
        "    ])\n",
        "log_model_pipe = Pipeline(steps=[\n",
        "    ('trans', trans2), ## need to drop out unused columns from the pipeline\n",
        "    ('log', LogisticRegression(random_state=50))\n",
        "    ])"
      ]
    },
    {
      "cell_type": "code",
      "execution_count": null,
      "metadata": {
        "id": "jPknKZa4NKo-"
      },
      "outputs": [],
      "source": [
        "log_model_pipe.fit(X_train[['opinion_seas_vacc_effective', 'doctor_recc_seasonal']], y_train)"
      ]
    },
    {
      "cell_type": "code",
      "execution_count": null,
      "metadata": {
        "id": "tFOuBNNMNKo-"
      },
      "outputs": [],
      "source": [
        "log_model_pipe.score(X_test[['opinion_seas_vacc_effective', 'doctor_recc_seasonal']], y_test)"
      ]
    },
    {
      "cell_type": "code",
      "execution_count": null,
      "metadata": {
        "id": "_BHc4-AZNKo-"
      },
      "outputs": [],
      "source": [
        "simplog_preds = log_model_pipe.predict(X_test[['opinion_seas_vacc_effective', 'doctor_recc_seasonal']])"
      ]
    },
    {
      "cell_type": "code",
      "execution_count": null,
      "metadata": {
        "id": "Dojq-NKgNKo-"
      },
      "outputs": [],
      "source": [
        "print(f'This is our f1 score: {f1_score(y_test, simplog_preds)}')\n",
        "print(f'This is our roc-auc score: {roc_auc_score(y_test, simplog_preds)}')\n",
        "print(f'This is our precision score: {precision_score(y_test, simplog_preds)}')\n",
        "print(f'This is our recall score: {recall_score(y_test, simplog_preds)}')"
      ]
    },
    {
      "cell_type": "code",
      "execution_count": null,
      "metadata": {
        "id": "2xlif-vTNKo-"
      },
      "outputs": [],
      "source": [
        "log_model_pipe.named_steps['log'].coef_\n"
      ]
    },
    {
      "cell_type": "code",
      "execution_count": null,
      "metadata": {
        "id": "1givTECwNKo-"
      },
      "outputs": [],
      "source": [
        "log_model_pipe.named_steps['log'].intercept_"
      ]
    },
    {
      "cell_type": "code",
      "execution_count": null,
      "metadata": {
        "id": "6yYWABwyNKo_"
      },
      "outputs": [],
      "source": [
        "a = log_model_pipe.named_steps['log'].coef_\n",
        "a"
      ]
    },
    {
      "cell_type": "code",
      "execution_count": null,
      "metadata": {
        "id": "UkocMlRENKo_"
      },
      "outputs": [],
      "source": [
        "np.exp(0.85995859) "
      ]
    },
    {
      "cell_type": "code",
      "execution_count": null,
      "metadata": {
        "id": "gYPl8qI2NKo_"
      },
      "outputs": [],
      "source": [
        "def logOddsConverter(data):\n",
        "    odds = []\n",
        "    for item in data:\n",
        "        odds.append(np.exp(item))\n",
        "    return odds"
      ]
    },
    {
      "cell_type": "code",
      "execution_count": null,
      "metadata": {
        "id": "5e0NsskQNKo_"
      },
      "outputs": [],
      "source": [
        "logOddsConverter(a)"
      ]
    },
    {
      "cell_type": "code",
      "execution_count": null,
      "metadata": {
        "id": "rkrvcUgNNKo_"
      },
      "outputs": [],
      "source": []
    }
  ],
  "metadata": {
    "kernelspec": {
      "display_name": "base",
      "language": "python",
      "name": "python3"
    },
    "language_info": {
      "codemirror_mode": {
        "name": "ipython",
        "version": 3
      },
      "file_extension": ".py",
      "mimetype": "text/x-python",
      "name": "python",
      "nbconvert_exporter": "python",
      "pygments_lexer": "ipython3",
      "version": "3.9.13"
    },
    "orig_nbformat": 4,
    "colab": {
      "provenance": []
    }
  },
  "nbformat": 4,
  "nbformat_minor": 0
}
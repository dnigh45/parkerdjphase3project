{
 "cells": [
  {
   "cell_type": "code",
   "execution_count": 1,
   "metadata": {},
   "outputs": [],
   "source": [
    "import pandas as pd\n",
    "import numpy as np\n",
    "from sklearn.linear_model import LogisticRegression\n",
    "from sklearn.model_selection import train_test_split, cross_val_score, GridSearchCV\n",
    "from sklearn.metrics import confusion_matrix, plot_confusion_matrix,\\\n",
    "    precision_score, recall_score, accuracy_score, f1_score, log_loss,\\\n",
    "    roc_curve, roc_auc_score, classification_report\n",
    "from sklearn.preprocessing import StandardScaler, OneHotEncoder, OrdinalEncoder, MinMaxScaler\n",
    "from sklearn.tree import DecisionTreeClassifier\n",
    "from sklearn.impute import SimpleImputer\n",
    "from sklearn.pipeline import Pipeline\n",
    "from sklearn.compose import ColumnTransformer, make_column_selector, make_column_transformer\n",
    "from sklearn import set_config\n",
    "import seaborn as sns\n",
    "from matplotlib import pyplot as plt"
   ]
  },
  {
   "cell_type": "code",
   "execution_count": 2,
   "metadata": {},
   "outputs": [],
   "source": [
    "set_config(display='diagram')"
   ]
  },
  {
   "cell_type": "code",
   "execution_count": 3,
   "metadata": {},
   "outputs": [],
   "source": [
    "X_init = pd.read_csv('Data/training_set_features.csv', index_col=0)\n",
    "y_init = pd.read_csv('Data/training_set_labels.csv', index_col=0)"
   ]
  },
  {
   "cell_type": "code",
   "execution_count": 4,
   "metadata": {},
   "outputs": [
    {
     "name": "stdout",
     "output_type": "stream",
     "text": [
      "<class 'pandas.core.frame.DataFrame'>\n",
      "Int64Index: 26707 entries, 0 to 26706\n",
      "Data columns (total 35 columns):\n",
      " #   Column                       Non-Null Count  Dtype  \n",
      "---  ------                       --------------  -----  \n",
      " 0   h1n1_concern                 26615 non-null  float64\n",
      " 1   h1n1_knowledge               26591 non-null  float64\n",
      " 2   behavioral_antiviral_meds    26636 non-null  float64\n",
      " 3   behavioral_avoidance         26499 non-null  float64\n",
      " 4   behavioral_face_mask         26688 non-null  float64\n",
      " 5   behavioral_wash_hands        26665 non-null  float64\n",
      " 6   behavioral_large_gatherings  26620 non-null  float64\n",
      " 7   behavioral_outside_home      26625 non-null  float64\n",
      " 8   behavioral_touch_face        26579 non-null  float64\n",
      " 9   doctor_recc_h1n1             24547 non-null  float64\n",
      " 10  doctor_recc_seasonal         24547 non-null  float64\n",
      " 11  chronic_med_condition        25736 non-null  float64\n",
      " 12  child_under_6_months         25887 non-null  float64\n",
      " 13  health_worker                25903 non-null  float64\n",
      " 14  health_insurance             14433 non-null  float64\n",
      " 15  opinion_h1n1_vacc_effective  26316 non-null  float64\n",
      " 16  opinion_h1n1_risk            26319 non-null  float64\n",
      " 17  opinion_h1n1_sick_from_vacc  26312 non-null  float64\n",
      " 18  opinion_seas_vacc_effective  26245 non-null  float64\n",
      " 19  opinion_seas_risk            26193 non-null  float64\n",
      " 20  opinion_seas_sick_from_vacc  26170 non-null  float64\n",
      " 21  age_group                    26707 non-null  object \n",
      " 22  education                    25300 non-null  object \n",
      " 23  race                         26707 non-null  object \n",
      " 24  sex                          26707 non-null  object \n",
      " 25  income_poverty               22284 non-null  object \n",
      " 26  marital_status               25299 non-null  object \n",
      " 27  rent_or_own                  24665 non-null  object \n",
      " 28  employment_status            25244 non-null  object \n",
      " 29  hhs_geo_region               26707 non-null  object \n",
      " 30  census_msa                   26707 non-null  object \n",
      " 31  household_adults             26458 non-null  float64\n",
      " 32  household_children           26458 non-null  float64\n",
      " 33  employment_industry          13377 non-null  object \n",
      " 34  employment_occupation        13237 non-null  object \n",
      "dtypes: float64(23), object(12)\n",
      "memory usage: 7.3+ MB\n"
     ]
    }
   ],
   "source": [
    "X_init.info()"
   ]
  },
  {
   "cell_type": "code",
   "execution_count": 5,
   "metadata": {},
   "outputs": [
    {
     "data": {
      "text/plain": [
       "employment_occupation          0.504362\n",
       "employment_industry            0.499120\n",
       "health_insurance               0.459580\n",
       "income_poverty                 0.165612\n",
       "doctor_recc_h1n1               0.080878\n",
       "doctor_recc_seasonal           0.080878\n",
       "rent_or_own                    0.076459\n",
       "employment_status              0.054780\n",
       "marital_status                 0.052720\n",
       "education                      0.052683\n",
       "chronic_med_condition          0.036358\n",
       "child_under_6_months           0.030704\n",
       "health_worker                  0.030104\n",
       "opinion_seas_sick_from_vacc    0.020107\n",
       "opinion_seas_risk              0.019246\n",
       "opinion_seas_vacc_effective    0.017299\n",
       "opinion_h1n1_sick_from_vacc    0.014790\n",
       "opinion_h1n1_vacc_effective    0.014640\n",
       "opinion_h1n1_risk              0.014528\n",
       "household_children             0.009323\n",
       "household_adults               0.009323\n",
       "behavioral_avoidance           0.007788\n",
       "behavioral_touch_face          0.004793\n",
       "h1n1_knowledge                 0.004343\n",
       "h1n1_concern                   0.003445\n",
       "behavioral_large_gatherings    0.003258\n",
       "behavioral_outside_home        0.003070\n",
       "behavioral_antiviral_meds      0.002658\n",
       "behavioral_wash_hands          0.001573\n",
       "behavioral_face_mask           0.000711\n",
       "sex                            0.000000\n",
       "race                           0.000000\n",
       "hhs_geo_region                 0.000000\n",
       "census_msa                     0.000000\n",
       "age_group                      0.000000\n",
       "dtype: float64"
      ]
     },
     "execution_count": 5,
     "metadata": {},
     "output_type": "execute_result"
    }
   ],
   "source": [
    "(X_init.isna().sum()/len(X_init)).sort_values(ascending=False)"
   ]
  },
  {
   "cell_type": "code",
   "execution_count": 6,
   "metadata": {},
   "outputs": [],
   "source": [
    "X_drop = X_init.drop(['employment_occupation', 'employment_industry', 'health_insurance'], axis=1)"
   ]
  },
  {
   "cell_type": "code",
   "execution_count": 7,
   "metadata": {},
   "outputs": [
    {
     "data": {
      "text/plain": [
       "doctor_recc_h1n1               0.393890\n",
       "opinion_h1n1_risk              0.323265\n",
       "opinion_h1n1_vacc_effective    0.269347\n",
       "opinion_seas_risk              0.258571\n",
       "doctor_recc_seasonal           0.209864\n",
       "opinion_seas_vacc_effective    0.179272\n",
       "health_worker                  0.169768\n",
       "h1n1_concern                   0.121929\n",
       "h1n1_knowledge                 0.117951\n",
       "chronic_med_condition          0.095207\n",
       "opinion_h1n1_sick_from_vacc    0.075091\n",
       "behavioral_wash_hands          0.074712\n",
       "behavioral_touch_face          0.071648\n",
       "behavioral_face_mask           0.070498\n",
       "child_under_6_months           0.066962\n",
       "behavioral_avoidance           0.047690\n",
       "behavioral_antiviral_meds      0.040608\n",
       "behavioral_outside_home        0.021768\n",
       "behavioral_large_gatherings    0.017822\n",
       "opinion_seas_sick_from_vacc    0.008360\n",
       "household_adults               0.007545\n",
       "household_children            -0.003320\n",
       "dtype: float64"
      ]
     },
     "execution_count": 7,
     "metadata": {},
     "output_type": "execute_result"
    }
   ],
   "source": [
    "X_drop.corrwith(y_init['h1n1_vaccine']).sort_values(ascending=False)"
   ]
  },
  {
   "cell_type": "code",
   "execution_count": 8,
   "metadata": {},
   "outputs": [
    {
     "data": {
      "text/plain": [
       "opinion_seas_risk              0.390106\n",
       "doctor_recc_seasonal           0.369190\n",
       "opinion_seas_vacc_effective    0.361875\n",
       "opinion_h1n1_risk              0.216625\n",
       "opinion_h1n1_vacc_effective    0.205072\n",
       "doctor_recc_h1n1               0.198607\n",
       "chronic_med_condition          0.170174\n",
       "h1n1_concern                   0.154828\n",
       "health_worker                  0.127311\n",
       "behavioral_touch_face          0.120228\n",
       "h1n1_knowledge                 0.120152\n",
       "behavioral_wash_hands          0.112414\n",
       "behavioral_avoidance           0.076395\n",
       "behavioral_large_gatherings    0.064025\n",
       "behavioral_outside_home        0.053509\n",
       "behavioral_face_mask           0.050083\n",
       "opinion_h1n1_sick_from_vacc    0.027404\n",
       "child_under_6_months           0.012097\n",
       "behavioral_antiviral_meds      0.006277\n",
       "opinion_seas_sick_from_vacc   -0.061510\n",
       "household_adults              -0.064840\n",
       "household_children            -0.114614\n",
       "dtype: float64"
      ]
     },
     "execution_count": 8,
     "metadata": {},
     "output_type": "execute_result"
    }
   ],
   "source": [
    "X_drop.corrwith(y_init['seasonal_vaccine']).sort_values(ascending=False)"
   ]
  },
  {
   "cell_type": "code",
   "execution_count": 9,
   "metadata": {},
   "outputs": [
    {
     "name": "stdout",
     "output_type": "stream",
     "text": [
      "<class 'pandas.core.frame.DataFrame'>\n",
      "Int64Index: 26707 entries, 0 to 26706\n",
      "Data columns (total 2 columns):\n",
      " #   Column            Non-Null Count  Dtype\n",
      "---  ------            --------------  -----\n",
      " 0   h1n1_vaccine      26707 non-null  int64\n",
      " 1   seasonal_vaccine  26707 non-null  int64\n",
      "dtypes: int64(2)\n",
      "memory usage: 625.9 KB\n"
     ]
    }
   ],
   "source": [
    "y_init.info()"
   ]
  },
  {
   "cell_type": "code",
   "execution_count": 10,
   "metadata": {},
   "outputs": [
    {
     "data": {
      "text/plain": [
       "0    0.787546\n",
       "1    0.212454\n",
       "Name: h1n1_vaccine, dtype: float64"
      ]
     },
     "execution_count": 10,
     "metadata": {},
     "output_type": "execute_result"
    }
   ],
   "source": [
    "y_init['h1n1_vaccine'].value_counts(normalize=True)"
   ]
  },
  {
   "cell_type": "code",
   "execution_count": 11,
   "metadata": {},
   "outputs": [
    {
     "data": {
      "text/plain": [
       "0    0.534392\n",
       "1    0.465608\n",
       "Name: seasonal_vaccine, dtype: float64"
      ]
     },
     "execution_count": 11,
     "metadata": {},
     "output_type": "execute_result"
    }
   ],
   "source": [
    "y_init['seasonal_vaccine'].value_counts(normalize=True)"
   ]
  },
  {
   "cell_type": "code",
   "execution_count": 12,
   "metadata": {},
   "outputs": [],
   "source": [
    "y_drop = y_init.drop('h1n1_vaccine', axis=1)"
   ]
  },
  {
   "cell_type": "code",
   "execution_count": 13,
   "metadata": {},
   "outputs": [
    {
     "data": {
      "text/html": [
       "<div>\n",
       "<style scoped>\n",
       "    .dataframe tbody tr th:only-of-type {\n",
       "        vertical-align: middle;\n",
       "    }\n",
       "\n",
       "    .dataframe tbody tr th {\n",
       "        vertical-align: top;\n",
       "    }\n",
       "\n",
       "    .dataframe thead th {\n",
       "        text-align: right;\n",
       "    }\n",
       "</style>\n",
       "<table border=\"1\" class=\"dataframe\">\n",
       "  <thead>\n",
       "    <tr style=\"text-align: right;\">\n",
       "      <th></th>\n",
       "      <th>seasonal_vaccine</th>\n",
       "    </tr>\n",
       "    <tr>\n",
       "      <th>respondent_id</th>\n",
       "      <th></th>\n",
       "    </tr>\n",
       "  </thead>\n",
       "  <tbody>\n",
       "    <tr>\n",
       "      <th>0</th>\n",
       "      <td>0</td>\n",
       "    </tr>\n",
       "    <tr>\n",
       "      <th>1</th>\n",
       "      <td>1</td>\n",
       "    </tr>\n",
       "    <tr>\n",
       "      <th>2</th>\n",
       "      <td>0</td>\n",
       "    </tr>\n",
       "    <tr>\n",
       "      <th>3</th>\n",
       "      <td>1</td>\n",
       "    </tr>\n",
       "    <tr>\n",
       "      <th>4</th>\n",
       "      <td>0</td>\n",
       "    </tr>\n",
       "    <tr>\n",
       "      <th>...</th>\n",
       "      <td>...</td>\n",
       "    </tr>\n",
       "    <tr>\n",
       "      <th>26702</th>\n",
       "      <td>0</td>\n",
       "    </tr>\n",
       "    <tr>\n",
       "      <th>26703</th>\n",
       "      <td>0</td>\n",
       "    </tr>\n",
       "    <tr>\n",
       "      <th>26704</th>\n",
       "      <td>1</td>\n",
       "    </tr>\n",
       "    <tr>\n",
       "      <th>26705</th>\n",
       "      <td>0</td>\n",
       "    </tr>\n",
       "    <tr>\n",
       "      <th>26706</th>\n",
       "      <td>0</td>\n",
       "    </tr>\n",
       "  </tbody>\n",
       "</table>\n",
       "<p>26707 rows × 1 columns</p>\n",
       "</div>"
      ],
      "text/plain": [
       "               seasonal_vaccine\n",
       "respondent_id                  \n",
       "0                             0\n",
       "1                             1\n",
       "2                             0\n",
       "3                             1\n",
       "4                             0\n",
       "...                         ...\n",
       "26702                         0\n",
       "26703                         0\n",
       "26704                         1\n",
       "26705                         0\n",
       "26706                         0\n",
       "\n",
       "[26707 rows x 1 columns]"
      ]
     },
     "execution_count": 13,
     "metadata": {},
     "output_type": "execute_result"
    }
   ],
   "source": [
    "y_drop"
   ]
  },
  {
   "cell_type": "code",
   "execution_count": 14,
   "metadata": {},
   "outputs": [
    {
     "data": {
      "text/plain": [
       "opinion_seas_risk              0.390106\n",
       "doctor_recc_seasonal           0.369190\n",
       "opinion_seas_vacc_effective    0.361875\n",
       "opinion_h1n1_risk              0.216625\n",
       "opinion_h1n1_vacc_effective    0.205072\n",
       "doctor_recc_h1n1               0.198607\n",
       "chronic_med_condition          0.170174\n",
       "h1n1_concern                   0.154828\n",
       "health_worker                  0.127311\n",
       "behavioral_touch_face          0.120228\n",
       "h1n1_knowledge                 0.120152\n",
       "behavioral_wash_hands          0.112414\n",
       "behavioral_avoidance           0.076395\n",
       "behavioral_large_gatherings    0.064025\n",
       "behavioral_outside_home        0.053509\n",
       "behavioral_face_mask           0.050083\n",
       "opinion_h1n1_sick_from_vacc    0.027404\n",
       "child_under_6_months           0.012097\n",
       "behavioral_antiviral_meds      0.006277\n",
       "opinion_seas_sick_from_vacc   -0.061510\n",
       "household_adults              -0.064840\n",
       "household_children            -0.114614\n",
       "dtype: float64"
      ]
     },
     "execution_count": 14,
     "metadata": {},
     "output_type": "execute_result"
    }
   ],
   "source": [
    "X_drop.corrwith(y_drop['seasonal_vaccine']).sort_values(ascending=False)"
   ]
  },
  {
   "cell_type": "code",
   "execution_count": 15,
   "metadata": {},
   "outputs": [],
   "source": [
    "X_train, X_test, y_train, y_test = train_test_split(X_drop, y_drop, random_state=50)"
   ]
  },
  {
   "cell_type": "code",
   "execution_count": 16,
   "metadata": {},
   "outputs": [
    {
     "data": {
      "text/html": [
       "<div>\n",
       "<style scoped>\n",
       "    .dataframe tbody tr th:only-of-type {\n",
       "        vertical-align: middle;\n",
       "    }\n",
       "\n",
       "    .dataframe tbody tr th {\n",
       "        vertical-align: top;\n",
       "    }\n",
       "\n",
       "    .dataframe thead th {\n",
       "        text-align: right;\n",
       "    }\n",
       "</style>\n",
       "<table border=\"1\" class=\"dataframe\">\n",
       "  <thead>\n",
       "    <tr style=\"text-align: right;\">\n",
       "      <th></th>\n",
       "      <th>h1n1_concern</th>\n",
       "      <th>h1n1_knowledge</th>\n",
       "      <th>behavioral_antiviral_meds</th>\n",
       "      <th>behavioral_avoidance</th>\n",
       "      <th>behavioral_face_mask</th>\n",
       "      <th>behavioral_wash_hands</th>\n",
       "      <th>behavioral_large_gatherings</th>\n",
       "      <th>behavioral_outside_home</th>\n",
       "      <th>behavioral_touch_face</th>\n",
       "      <th>doctor_recc_h1n1</th>\n",
       "      <th>...</th>\n",
       "      <th>race</th>\n",
       "      <th>sex</th>\n",
       "      <th>income_poverty</th>\n",
       "      <th>marital_status</th>\n",
       "      <th>rent_or_own</th>\n",
       "      <th>employment_status</th>\n",
       "      <th>hhs_geo_region</th>\n",
       "      <th>census_msa</th>\n",
       "      <th>household_adults</th>\n",
       "      <th>household_children</th>\n",
       "    </tr>\n",
       "    <tr>\n",
       "      <th>respondent_id</th>\n",
       "      <th></th>\n",
       "      <th></th>\n",
       "      <th></th>\n",
       "      <th></th>\n",
       "      <th></th>\n",
       "      <th></th>\n",
       "      <th></th>\n",
       "      <th></th>\n",
       "      <th></th>\n",
       "      <th></th>\n",
       "      <th></th>\n",
       "      <th></th>\n",
       "      <th></th>\n",
       "      <th></th>\n",
       "      <th></th>\n",
       "      <th></th>\n",
       "      <th></th>\n",
       "      <th></th>\n",
       "      <th></th>\n",
       "      <th></th>\n",
       "      <th></th>\n",
       "    </tr>\n",
       "  </thead>\n",
       "  <tbody>\n",
       "    <tr>\n",
       "      <th>16087</th>\n",
       "      <td>1.0</td>\n",
       "      <td>1.0</td>\n",
       "      <td>0.0</td>\n",
       "      <td>1.0</td>\n",
       "      <td>0.0</td>\n",
       "      <td>1.0</td>\n",
       "      <td>0.0</td>\n",
       "      <td>0.0</td>\n",
       "      <td>1.0</td>\n",
       "      <td>0.0</td>\n",
       "      <td>...</td>\n",
       "      <td>White</td>\n",
       "      <td>Female</td>\n",
       "      <td>Below Poverty</td>\n",
       "      <td>Not Married</td>\n",
       "      <td>Rent</td>\n",
       "      <td>Not in Labor Force</td>\n",
       "      <td>oxchjgsf</td>\n",
       "      <td>MSA, Principle City</td>\n",
       "      <td>2.0</td>\n",
       "      <td>0.0</td>\n",
       "    </tr>\n",
       "    <tr>\n",
       "      <th>9261</th>\n",
       "      <td>2.0</td>\n",
       "      <td>2.0</td>\n",
       "      <td>0.0</td>\n",
       "      <td>1.0</td>\n",
       "      <td>0.0</td>\n",
       "      <td>1.0</td>\n",
       "      <td>1.0</td>\n",
       "      <td>1.0</td>\n",
       "      <td>1.0</td>\n",
       "      <td>0.0</td>\n",
       "      <td>...</td>\n",
       "      <td>White</td>\n",
       "      <td>Male</td>\n",
       "      <td>&gt; $75,000</td>\n",
       "      <td>Married</td>\n",
       "      <td>Own</td>\n",
       "      <td>Employed</td>\n",
       "      <td>bhuqouqj</td>\n",
       "      <td>Non-MSA</td>\n",
       "      <td>1.0</td>\n",
       "      <td>0.0</td>\n",
       "    </tr>\n",
       "    <tr>\n",
       "      <th>16193</th>\n",
       "      <td>2.0</td>\n",
       "      <td>2.0</td>\n",
       "      <td>0.0</td>\n",
       "      <td>1.0</td>\n",
       "      <td>0.0</td>\n",
       "      <td>1.0</td>\n",
       "      <td>0.0</td>\n",
       "      <td>0.0</td>\n",
       "      <td>1.0</td>\n",
       "      <td>1.0</td>\n",
       "      <td>...</td>\n",
       "      <td>White</td>\n",
       "      <td>Female</td>\n",
       "      <td>&lt;= $75,000, Above Poverty</td>\n",
       "      <td>Not Married</td>\n",
       "      <td>Rent</td>\n",
       "      <td>Employed</td>\n",
       "      <td>bhuqouqj</td>\n",
       "      <td>MSA, Not Principle  City</td>\n",
       "      <td>0.0</td>\n",
       "      <td>2.0</td>\n",
       "    </tr>\n",
       "    <tr>\n",
       "      <th>18216</th>\n",
       "      <td>1.0</td>\n",
       "      <td>1.0</td>\n",
       "      <td>0.0</td>\n",
       "      <td>0.0</td>\n",
       "      <td>0.0</td>\n",
       "      <td>1.0</td>\n",
       "      <td>0.0</td>\n",
       "      <td>0.0</td>\n",
       "      <td>0.0</td>\n",
       "      <td>0.0</td>\n",
       "      <td>...</td>\n",
       "      <td>White</td>\n",
       "      <td>Female</td>\n",
       "      <td>&lt;= $75,000, Above Poverty</td>\n",
       "      <td>Not Married</td>\n",
       "      <td>Rent</td>\n",
       "      <td>Employed</td>\n",
       "      <td>dqpwygqj</td>\n",
       "      <td>MSA, Principle City</td>\n",
       "      <td>0.0</td>\n",
       "      <td>0.0</td>\n",
       "    </tr>\n",
       "    <tr>\n",
       "      <th>9161</th>\n",
       "      <td>2.0</td>\n",
       "      <td>1.0</td>\n",
       "      <td>0.0</td>\n",
       "      <td>1.0</td>\n",
       "      <td>0.0</td>\n",
       "      <td>1.0</td>\n",
       "      <td>0.0</td>\n",
       "      <td>0.0</td>\n",
       "      <td>1.0</td>\n",
       "      <td>0.0</td>\n",
       "      <td>...</td>\n",
       "      <td>White</td>\n",
       "      <td>Male</td>\n",
       "      <td>&lt;= $75,000, Above Poverty</td>\n",
       "      <td>Married</td>\n",
       "      <td>Own</td>\n",
       "      <td>Employed</td>\n",
       "      <td>qufhixun</td>\n",
       "      <td>MSA, Not Principle  City</td>\n",
       "      <td>1.0</td>\n",
       "      <td>0.0</td>\n",
       "    </tr>\n",
       "    <tr>\n",
       "      <th>...</th>\n",
       "      <td>...</td>\n",
       "      <td>...</td>\n",
       "      <td>...</td>\n",
       "      <td>...</td>\n",
       "      <td>...</td>\n",
       "      <td>...</td>\n",
       "      <td>...</td>\n",
       "      <td>...</td>\n",
       "      <td>...</td>\n",
       "      <td>...</td>\n",
       "      <td>...</td>\n",
       "      <td>...</td>\n",
       "      <td>...</td>\n",
       "      <td>...</td>\n",
       "      <td>...</td>\n",
       "      <td>...</td>\n",
       "      <td>...</td>\n",
       "      <td>...</td>\n",
       "      <td>...</td>\n",
       "      <td>...</td>\n",
       "      <td>...</td>\n",
       "    </tr>\n",
       "    <tr>\n",
       "      <th>15649</th>\n",
       "      <td>1.0</td>\n",
       "      <td>1.0</td>\n",
       "      <td>0.0</td>\n",
       "      <td>1.0</td>\n",
       "      <td>0.0</td>\n",
       "      <td>1.0</td>\n",
       "      <td>0.0</td>\n",
       "      <td>0.0</td>\n",
       "      <td>0.0</td>\n",
       "      <td>NaN</td>\n",
       "      <td>...</td>\n",
       "      <td>White</td>\n",
       "      <td>Male</td>\n",
       "      <td>&lt;= $75,000, Above Poverty</td>\n",
       "      <td>Married</td>\n",
       "      <td>Own</td>\n",
       "      <td>Employed</td>\n",
       "      <td>kbazzjca</td>\n",
       "      <td>Non-MSA</td>\n",
       "      <td>1.0</td>\n",
       "      <td>2.0</td>\n",
       "    </tr>\n",
       "    <tr>\n",
       "      <th>22637</th>\n",
       "      <td>0.0</td>\n",
       "      <td>0.0</td>\n",
       "      <td>0.0</td>\n",
       "      <td>0.0</td>\n",
       "      <td>0.0</td>\n",
       "      <td>0.0</td>\n",
       "      <td>0.0</td>\n",
       "      <td>0.0</td>\n",
       "      <td>0.0</td>\n",
       "      <td>0.0</td>\n",
       "      <td>...</td>\n",
       "      <td>White</td>\n",
       "      <td>Male</td>\n",
       "      <td>NaN</td>\n",
       "      <td>NaN</td>\n",
       "      <td>NaN</td>\n",
       "      <td>NaN</td>\n",
       "      <td>kbazzjca</td>\n",
       "      <td>Non-MSA</td>\n",
       "      <td>2.0</td>\n",
       "      <td>3.0</td>\n",
       "    </tr>\n",
       "    <tr>\n",
       "      <th>10123</th>\n",
       "      <td>3.0</td>\n",
       "      <td>2.0</td>\n",
       "      <td>0.0</td>\n",
       "      <td>1.0</td>\n",
       "      <td>0.0</td>\n",
       "      <td>1.0</td>\n",
       "      <td>0.0</td>\n",
       "      <td>0.0</td>\n",
       "      <td>1.0</td>\n",
       "      <td>0.0</td>\n",
       "      <td>...</td>\n",
       "      <td>White</td>\n",
       "      <td>Female</td>\n",
       "      <td>&gt; $75,000</td>\n",
       "      <td>Married</td>\n",
       "      <td>Own</td>\n",
       "      <td>Not in Labor Force</td>\n",
       "      <td>oxchjgsf</td>\n",
       "      <td>MSA, Not Principle  City</td>\n",
       "      <td>1.0</td>\n",
       "      <td>0.0</td>\n",
       "    </tr>\n",
       "    <tr>\n",
       "      <th>5600</th>\n",
       "      <td>2.0</td>\n",
       "      <td>2.0</td>\n",
       "      <td>0.0</td>\n",
       "      <td>1.0</td>\n",
       "      <td>0.0</td>\n",
       "      <td>1.0</td>\n",
       "      <td>0.0</td>\n",
       "      <td>0.0</td>\n",
       "      <td>1.0</td>\n",
       "      <td>0.0</td>\n",
       "      <td>...</td>\n",
       "      <td>White</td>\n",
       "      <td>Male</td>\n",
       "      <td>&gt; $75,000</td>\n",
       "      <td>Married</td>\n",
       "      <td>Own</td>\n",
       "      <td>Employed</td>\n",
       "      <td>lzgpxyit</td>\n",
       "      <td>Non-MSA</td>\n",
       "      <td>1.0</td>\n",
       "      <td>0.0</td>\n",
       "    </tr>\n",
       "    <tr>\n",
       "      <th>14000</th>\n",
       "      <td>2.0</td>\n",
       "      <td>1.0</td>\n",
       "      <td>0.0</td>\n",
       "      <td>1.0</td>\n",
       "      <td>1.0</td>\n",
       "      <td>1.0</td>\n",
       "      <td>1.0</td>\n",
       "      <td>1.0</td>\n",
       "      <td>1.0</td>\n",
       "      <td>0.0</td>\n",
       "      <td>...</td>\n",
       "      <td>White</td>\n",
       "      <td>Female</td>\n",
       "      <td>NaN</td>\n",
       "      <td>NaN</td>\n",
       "      <td>NaN</td>\n",
       "      <td>NaN</td>\n",
       "      <td>kbazzjca</td>\n",
       "      <td>MSA, Not Principle  City</td>\n",
       "      <td>1.0</td>\n",
       "      <td>0.0</td>\n",
       "    </tr>\n",
       "  </tbody>\n",
       "</table>\n",
       "<p>20030 rows × 32 columns</p>\n",
       "</div>"
      ],
      "text/plain": [
       "               h1n1_concern  h1n1_knowledge  behavioral_antiviral_meds  \\\n",
       "respondent_id                                                            \n",
       "16087                   1.0             1.0                        0.0   \n",
       "9261                    2.0             2.0                        0.0   \n",
       "16193                   2.0             2.0                        0.0   \n",
       "18216                   1.0             1.0                        0.0   \n",
       "9161                    2.0             1.0                        0.0   \n",
       "...                     ...             ...                        ...   \n",
       "15649                   1.0             1.0                        0.0   \n",
       "22637                   0.0             0.0                        0.0   \n",
       "10123                   3.0             2.0                        0.0   \n",
       "5600                    2.0             2.0                        0.0   \n",
       "14000                   2.0             1.0                        0.0   \n",
       "\n",
       "               behavioral_avoidance  behavioral_face_mask  \\\n",
       "respondent_id                                               \n",
       "16087                           1.0                   0.0   \n",
       "9261                            1.0                   0.0   \n",
       "16193                           1.0                   0.0   \n",
       "18216                           0.0                   0.0   \n",
       "9161                            1.0                   0.0   \n",
       "...                             ...                   ...   \n",
       "15649                           1.0                   0.0   \n",
       "22637                           0.0                   0.0   \n",
       "10123                           1.0                   0.0   \n",
       "5600                            1.0                   0.0   \n",
       "14000                           1.0                   1.0   \n",
       "\n",
       "               behavioral_wash_hands  behavioral_large_gatherings  \\\n",
       "respondent_id                                                       \n",
       "16087                            1.0                          0.0   \n",
       "9261                             1.0                          1.0   \n",
       "16193                            1.0                          0.0   \n",
       "18216                            1.0                          0.0   \n",
       "9161                             1.0                          0.0   \n",
       "...                              ...                          ...   \n",
       "15649                            1.0                          0.0   \n",
       "22637                            0.0                          0.0   \n",
       "10123                            1.0                          0.0   \n",
       "5600                             1.0                          0.0   \n",
       "14000                            1.0                          1.0   \n",
       "\n",
       "               behavioral_outside_home  behavioral_touch_face  \\\n",
       "respondent_id                                                   \n",
       "16087                              0.0                    1.0   \n",
       "9261                               1.0                    1.0   \n",
       "16193                              0.0                    1.0   \n",
       "18216                              0.0                    0.0   \n",
       "9161                               0.0                    1.0   \n",
       "...                                ...                    ...   \n",
       "15649                              0.0                    0.0   \n",
       "22637                              0.0                    0.0   \n",
       "10123                              0.0                    1.0   \n",
       "5600                               0.0                    1.0   \n",
       "14000                              1.0                    1.0   \n",
       "\n",
       "               doctor_recc_h1n1  ...   race     sex  \\\n",
       "respondent_id                    ...                  \n",
       "16087                       0.0  ...  White  Female   \n",
       "9261                        0.0  ...  White    Male   \n",
       "16193                       1.0  ...  White  Female   \n",
       "18216                       0.0  ...  White  Female   \n",
       "9161                        0.0  ...  White    Male   \n",
       "...                         ...  ...    ...     ...   \n",
       "15649                       NaN  ...  White    Male   \n",
       "22637                       0.0  ...  White    Male   \n",
       "10123                       0.0  ...  White  Female   \n",
       "5600                        0.0  ...  White    Male   \n",
       "14000                       0.0  ...  White  Female   \n",
       "\n",
       "                          income_poverty  marital_status  rent_or_own  \\\n",
       "respondent_id                                                           \n",
       "16087                      Below Poverty     Not Married         Rent   \n",
       "9261                           > $75,000         Married          Own   \n",
       "16193          <= $75,000, Above Poverty     Not Married         Rent   \n",
       "18216          <= $75,000, Above Poverty     Not Married         Rent   \n",
       "9161           <= $75,000, Above Poverty         Married          Own   \n",
       "...                                  ...             ...          ...   \n",
       "15649          <= $75,000, Above Poverty         Married          Own   \n",
       "22637                                NaN             NaN          NaN   \n",
       "10123                          > $75,000         Married          Own   \n",
       "5600                           > $75,000         Married          Own   \n",
       "14000                                NaN             NaN          NaN   \n",
       "\n",
       "                employment_status  hhs_geo_region                census_msa  \\\n",
       "respondent_id                                                                 \n",
       "16087          Not in Labor Force        oxchjgsf       MSA, Principle City   \n",
       "9261                     Employed        bhuqouqj                   Non-MSA   \n",
       "16193                    Employed        bhuqouqj  MSA, Not Principle  City   \n",
       "18216                    Employed        dqpwygqj       MSA, Principle City   \n",
       "9161                     Employed        qufhixun  MSA, Not Principle  City   \n",
       "...                           ...             ...                       ...   \n",
       "15649                    Employed        kbazzjca                   Non-MSA   \n",
       "22637                         NaN        kbazzjca                   Non-MSA   \n",
       "10123          Not in Labor Force        oxchjgsf  MSA, Not Principle  City   \n",
       "5600                     Employed        lzgpxyit                   Non-MSA   \n",
       "14000                         NaN        kbazzjca  MSA, Not Principle  City   \n",
       "\n",
       "               household_adults  household_children  \n",
       "respondent_id                                        \n",
       "16087                       2.0                 0.0  \n",
       "9261                        1.0                 0.0  \n",
       "16193                       0.0                 2.0  \n",
       "18216                       0.0                 0.0  \n",
       "9161                        1.0                 0.0  \n",
       "...                         ...                 ...  \n",
       "15649                       1.0                 2.0  \n",
       "22637                       2.0                 3.0  \n",
       "10123                       1.0                 0.0  \n",
       "5600                        1.0                 0.0  \n",
       "14000                       1.0                 0.0  \n",
       "\n",
       "[20030 rows x 32 columns]"
      ]
     },
     "execution_count": 16,
     "metadata": {},
     "output_type": "execute_result"
    }
   ],
   "source": [
    "X_train"
   ]
  },
  {
   "cell_type": "code",
   "execution_count": 19,
   "metadata": {},
   "outputs": [],
   "source": [
    "numerical_pipeline = Pipeline(steps=[\n",
    "    ('impute_nums', SimpleImputer(strategy='median')),\n",
    "    ('scaler', StandardScaler())])\n",
    "#describe why median was chose\n",
    "categorical_pipeline = Pipeline(steps=[\n",
    "    ('cat_impute', SimpleImputer(strategy='most_frequent')),\n",
    "    ('encode', OrdinalEncoder())])\n",
    "\n",
    "trans = ColumnTransformer(transformers=[\n",
    "     ('numerical', numerical_pipeline, make_column_selector(dtype_include=np.number)),\n",
    "     ('categorical', categorical_pipeline, make_column_selector(dtype_include=object))     \n",
    "])"
   ]
  },
  {
   "cell_type": "code",
   "execution_count": 20,
   "metadata": {},
   "outputs": [],
   "source": [
    "simple_model_pipe = Pipeline(steps=[\n",
    "    ('trans', trans),\n",
    "    ('tree', DecisionTreeClassifier(max_depth=2, random_state=50))\n",
    "    ])"
   ]
  },
  {
   "cell_type": "code",
   "execution_count": 21,
   "metadata": {},
   "outputs": [],
   "source": [
    "num_col = make_column_selector(dtype_include=np.number)(X_train)\n",
    "cat_col = make_column_selector(dtype_include=object)(X_train)\n",
    "cols = num_col+cat_col"
   ]
  },
  {
   "cell_type": "code",
   "execution_count": 22,
   "metadata": {},
   "outputs": [
    {
     "data": {
      "text/html": [
       "<style>#sk-43d01d74-811e-4777-bdeb-5651bf7d86b7 {color: black;background-color: white;}#sk-43d01d74-811e-4777-bdeb-5651bf7d86b7 pre{padding: 0;}#sk-43d01d74-811e-4777-bdeb-5651bf7d86b7 div.sk-toggleable {background-color: white;}#sk-43d01d74-811e-4777-bdeb-5651bf7d86b7 label.sk-toggleable__label {cursor: pointer;display: block;width: 100%;margin-bottom: 0;padding: 0.3em;box-sizing: border-box;text-align: center;}#sk-43d01d74-811e-4777-bdeb-5651bf7d86b7 label.sk-toggleable__label-arrow:before {content: \"▸\";float: left;margin-right: 0.25em;color: #696969;}#sk-43d01d74-811e-4777-bdeb-5651bf7d86b7 label.sk-toggleable__label-arrow:hover:before {color: black;}#sk-43d01d74-811e-4777-bdeb-5651bf7d86b7 div.sk-estimator:hover label.sk-toggleable__label-arrow:before {color: black;}#sk-43d01d74-811e-4777-bdeb-5651bf7d86b7 div.sk-toggleable__content {max-height: 0;max-width: 0;overflow: hidden;text-align: left;background-color: #f0f8ff;}#sk-43d01d74-811e-4777-bdeb-5651bf7d86b7 div.sk-toggleable__content pre {margin: 0.2em;color: black;border-radius: 0.25em;background-color: #f0f8ff;}#sk-43d01d74-811e-4777-bdeb-5651bf7d86b7 input.sk-toggleable__control:checked~div.sk-toggleable__content {max-height: 200px;max-width: 100%;overflow: auto;}#sk-43d01d74-811e-4777-bdeb-5651bf7d86b7 input.sk-toggleable__control:checked~label.sk-toggleable__label-arrow:before {content: \"▾\";}#sk-43d01d74-811e-4777-bdeb-5651bf7d86b7 div.sk-estimator input.sk-toggleable__control:checked~label.sk-toggleable__label {background-color: #d4ebff;}#sk-43d01d74-811e-4777-bdeb-5651bf7d86b7 div.sk-label input.sk-toggleable__control:checked~label.sk-toggleable__label {background-color: #d4ebff;}#sk-43d01d74-811e-4777-bdeb-5651bf7d86b7 input.sk-hidden--visually {border: 0;clip: rect(1px 1px 1px 1px);clip: rect(1px, 1px, 1px, 1px);height: 1px;margin: -1px;overflow: hidden;padding: 0;position: absolute;width: 1px;}#sk-43d01d74-811e-4777-bdeb-5651bf7d86b7 div.sk-estimator {font-family: monospace;background-color: #f0f8ff;border: 1px dotted black;border-radius: 0.25em;box-sizing: border-box;margin-bottom: 0.5em;}#sk-43d01d74-811e-4777-bdeb-5651bf7d86b7 div.sk-estimator:hover {background-color: #d4ebff;}#sk-43d01d74-811e-4777-bdeb-5651bf7d86b7 div.sk-parallel-item::after {content: \"\";width: 100%;border-bottom: 1px solid gray;flex-grow: 1;}#sk-43d01d74-811e-4777-bdeb-5651bf7d86b7 div.sk-label:hover label.sk-toggleable__label {background-color: #d4ebff;}#sk-43d01d74-811e-4777-bdeb-5651bf7d86b7 div.sk-serial::before {content: \"\";position: absolute;border-left: 1px solid gray;box-sizing: border-box;top: 2em;bottom: 0;left: 50%;}#sk-43d01d74-811e-4777-bdeb-5651bf7d86b7 div.sk-serial {display: flex;flex-direction: column;align-items: center;background-color: white;padding-right: 0.2em;padding-left: 0.2em;}#sk-43d01d74-811e-4777-bdeb-5651bf7d86b7 div.sk-item {z-index: 1;}#sk-43d01d74-811e-4777-bdeb-5651bf7d86b7 div.sk-parallel {display: flex;align-items: stretch;justify-content: center;background-color: white;}#sk-43d01d74-811e-4777-bdeb-5651bf7d86b7 div.sk-parallel::before {content: \"\";position: absolute;border-left: 1px solid gray;box-sizing: border-box;top: 2em;bottom: 0;left: 50%;}#sk-43d01d74-811e-4777-bdeb-5651bf7d86b7 div.sk-parallel-item {display: flex;flex-direction: column;position: relative;background-color: white;}#sk-43d01d74-811e-4777-bdeb-5651bf7d86b7 div.sk-parallel-item:first-child::after {align-self: flex-end;width: 50%;}#sk-43d01d74-811e-4777-bdeb-5651bf7d86b7 div.sk-parallel-item:last-child::after {align-self: flex-start;width: 50%;}#sk-43d01d74-811e-4777-bdeb-5651bf7d86b7 div.sk-parallel-item:only-child::after {width: 0;}#sk-43d01d74-811e-4777-bdeb-5651bf7d86b7 div.sk-dashed-wrapped {border: 1px dashed gray;margin: 0 0.4em 0.5em 0.4em;box-sizing: border-box;padding-bottom: 0.4em;background-color: white;position: relative;}#sk-43d01d74-811e-4777-bdeb-5651bf7d86b7 div.sk-label label {font-family: monospace;font-weight: bold;background-color: white;display: inline-block;line-height: 1.2em;}#sk-43d01d74-811e-4777-bdeb-5651bf7d86b7 div.sk-label-container {position: relative;z-index: 2;text-align: center;}#sk-43d01d74-811e-4777-bdeb-5651bf7d86b7 div.sk-container {/* jupyter's `normalize.less` sets `[hidden] { display: none; }` but bootstrap.min.css set `[hidden] { display: none !important; }` so we also need the `!important` here to be able to override the default hidden behavior on the sphinx rendered scikit-learn.org. See: https://github.com/scikit-learn/scikit-learn/issues/21755 */display: inline-block !important;position: relative;}#sk-43d01d74-811e-4777-bdeb-5651bf7d86b7 div.sk-text-repr-fallback {display: none;}</style><div id=\"sk-43d01d74-811e-4777-bdeb-5651bf7d86b7\" class=\"sk-top-container\"><div class=\"sk-text-repr-fallback\"><pre>Pipeline(steps=[(&#x27;trans&#x27;,\n",
       "                 ColumnTransformer(transformers=[(&#x27;numerical&#x27;,\n",
       "                                                  Pipeline(steps=[(&#x27;impute_nums&#x27;,\n",
       "                                                                   SimpleImputer(strategy=&#x27;median&#x27;)),\n",
       "                                                                  (&#x27;scaler&#x27;,\n",
       "                                                                   StandardScaler())]),\n",
       "                                                  &lt;sklearn.compose._column_transformer.make_column_selector object at 0x000001A8E7136D90&gt;),\n",
       "                                                 (&#x27;categorical&#x27;,\n",
       "                                                  Pipeline(steps=[(&#x27;cat_impute&#x27;,\n",
       "                                                                   SimpleImputer(strategy=&#x27;most_frequent&#x27;)),\n",
       "                                                                  (&#x27;encode&#x27;,\n",
       "                                                                   OrdinalEncoder())]),\n",
       "                                                  &lt;sklearn.compose._column_transformer.make_column_selector object at 0x000001A8E7136DC0&gt;)])),\n",
       "                (&#x27;tree&#x27;, DecisionTreeClassifier(max_depth=2, random_state=50))])</pre><b>Please rerun this cell to show the HTML repr or trust the notebook.</b></div><div class=\"sk-container\" hidden><div class=\"sk-item sk-dashed-wrapped\"><div class=\"sk-label-container\"><div class=\"sk-label sk-toggleable\"><input class=\"sk-toggleable__control sk-hidden--visually\" id=\"2c5f3385-a94f-44ac-b52f-2861c4c6e0c7\" type=\"checkbox\" ><label for=\"2c5f3385-a94f-44ac-b52f-2861c4c6e0c7\" class=\"sk-toggleable__label sk-toggleable__label-arrow\">Pipeline</label><div class=\"sk-toggleable__content\"><pre>Pipeline(steps=[(&#x27;trans&#x27;,\n",
       "                 ColumnTransformer(transformers=[(&#x27;numerical&#x27;,\n",
       "                                                  Pipeline(steps=[(&#x27;impute_nums&#x27;,\n",
       "                                                                   SimpleImputer(strategy=&#x27;median&#x27;)),\n",
       "                                                                  (&#x27;scaler&#x27;,\n",
       "                                                                   StandardScaler())]),\n",
       "                                                  &lt;sklearn.compose._column_transformer.make_column_selector object at 0x000001A8E7136D90&gt;),\n",
       "                                                 (&#x27;categorical&#x27;,\n",
       "                                                  Pipeline(steps=[(&#x27;cat_impute&#x27;,\n",
       "                                                                   SimpleImputer(strategy=&#x27;most_frequent&#x27;)),\n",
       "                                                                  (&#x27;encode&#x27;,\n",
       "                                                                   OrdinalEncoder())]),\n",
       "                                                  &lt;sklearn.compose._column_transformer.make_column_selector object at 0x000001A8E7136DC0&gt;)])),\n",
       "                (&#x27;tree&#x27;, DecisionTreeClassifier(max_depth=2, random_state=50))])</pre></div></div></div><div class=\"sk-serial\"><div class=\"sk-item sk-dashed-wrapped\"><div class=\"sk-label-container\"><div class=\"sk-label sk-toggleable\"><input class=\"sk-toggleable__control sk-hidden--visually\" id=\"c145a8c5-3c73-4c79-9c9b-dc212d9d2c40\" type=\"checkbox\" ><label for=\"c145a8c5-3c73-4c79-9c9b-dc212d9d2c40\" class=\"sk-toggleable__label sk-toggleable__label-arrow\">trans: ColumnTransformer</label><div class=\"sk-toggleable__content\"><pre>ColumnTransformer(transformers=[(&#x27;numerical&#x27;,\n",
       "                                 Pipeline(steps=[(&#x27;impute_nums&#x27;,\n",
       "                                                  SimpleImputer(strategy=&#x27;median&#x27;)),\n",
       "                                                 (&#x27;scaler&#x27;, StandardScaler())]),\n",
       "                                 &lt;sklearn.compose._column_transformer.make_column_selector object at 0x000001A8E7136D90&gt;),\n",
       "                                (&#x27;categorical&#x27;,\n",
       "                                 Pipeline(steps=[(&#x27;cat_impute&#x27;,\n",
       "                                                  SimpleImputer(strategy=&#x27;most_frequent&#x27;)),\n",
       "                                                 (&#x27;encode&#x27;, OrdinalEncoder())]),\n",
       "                                 &lt;sklearn.compose._column_transformer.make_column_selector object at 0x000001A8E7136DC0&gt;)])</pre></div></div></div><div class=\"sk-parallel\"><div class=\"sk-parallel-item\"><div class=\"sk-item\"><div class=\"sk-label-container\"><div class=\"sk-label sk-toggleable\"><input class=\"sk-toggleable__control sk-hidden--visually\" id=\"183d1f06-5e05-4341-b11f-4ce70f5f311c\" type=\"checkbox\" ><label for=\"183d1f06-5e05-4341-b11f-4ce70f5f311c\" class=\"sk-toggleable__label sk-toggleable__label-arrow\">numerical</label><div class=\"sk-toggleable__content\"><pre>&lt;sklearn.compose._column_transformer.make_column_selector object at 0x000001A8E7136D90&gt;</pre></div></div></div><div class=\"sk-serial\"><div class=\"sk-item\"><div class=\"sk-serial\"><div class=\"sk-item\"><div class=\"sk-estimator sk-toggleable\"><input class=\"sk-toggleable__control sk-hidden--visually\" id=\"d45ad027-80cc-414d-be34-2b1c1206aefa\" type=\"checkbox\" ><label for=\"d45ad027-80cc-414d-be34-2b1c1206aefa\" class=\"sk-toggleable__label sk-toggleable__label-arrow\">SimpleImputer</label><div class=\"sk-toggleable__content\"><pre>SimpleImputer(strategy=&#x27;median&#x27;)</pre></div></div></div><div class=\"sk-item\"><div class=\"sk-estimator sk-toggleable\"><input class=\"sk-toggleable__control sk-hidden--visually\" id=\"6887db4f-25dc-4363-85fc-d6e07a154959\" type=\"checkbox\" ><label for=\"6887db4f-25dc-4363-85fc-d6e07a154959\" class=\"sk-toggleable__label sk-toggleable__label-arrow\">StandardScaler</label><div class=\"sk-toggleable__content\"><pre>StandardScaler()</pre></div></div></div></div></div></div></div></div><div class=\"sk-parallel-item\"><div class=\"sk-item\"><div class=\"sk-label-container\"><div class=\"sk-label sk-toggleable\"><input class=\"sk-toggleable__control sk-hidden--visually\" id=\"051f9a66-476b-4bd0-aae3-16d561851620\" type=\"checkbox\" ><label for=\"051f9a66-476b-4bd0-aae3-16d561851620\" class=\"sk-toggleable__label sk-toggleable__label-arrow\">categorical</label><div class=\"sk-toggleable__content\"><pre>&lt;sklearn.compose._column_transformer.make_column_selector object at 0x000001A8E7136DC0&gt;</pre></div></div></div><div class=\"sk-serial\"><div class=\"sk-item\"><div class=\"sk-serial\"><div class=\"sk-item\"><div class=\"sk-estimator sk-toggleable\"><input class=\"sk-toggleable__control sk-hidden--visually\" id=\"625b1554-9620-4ecc-8a4e-0b033f549379\" type=\"checkbox\" ><label for=\"625b1554-9620-4ecc-8a4e-0b033f549379\" class=\"sk-toggleable__label sk-toggleable__label-arrow\">SimpleImputer</label><div class=\"sk-toggleable__content\"><pre>SimpleImputer(strategy=&#x27;most_frequent&#x27;)</pre></div></div></div><div class=\"sk-item\"><div class=\"sk-estimator sk-toggleable\"><input class=\"sk-toggleable__control sk-hidden--visually\" id=\"d7ef2996-cfae-43b3-999e-4dcf8a66b9b1\" type=\"checkbox\" ><label for=\"d7ef2996-cfae-43b3-999e-4dcf8a66b9b1\" class=\"sk-toggleable__label sk-toggleable__label-arrow\">OrdinalEncoder</label><div class=\"sk-toggleable__content\"><pre>OrdinalEncoder()</pre></div></div></div></div></div></div></div></div></div></div><div class=\"sk-item\"><div class=\"sk-estimator sk-toggleable\"><input class=\"sk-toggleable__control sk-hidden--visually\" id=\"af479be6-1bd9-4076-a516-06d8dc79a530\" type=\"checkbox\" ><label for=\"af479be6-1bd9-4076-a516-06d8dc79a530\" class=\"sk-toggleable__label sk-toggleable__label-arrow\">DecisionTreeClassifier</label><div class=\"sk-toggleable__content\"><pre>DecisionTreeClassifier(max_depth=2, random_state=50)</pre></div></div></div></div></div></div></div>"
      ],
      "text/plain": [
       "Pipeline(steps=[('trans',\n",
       "                 ColumnTransformer(transformers=[('numerical',\n",
       "                                                  Pipeline(steps=[('impute_nums',\n",
       "                                                                   SimpleImputer(strategy='median')),\n",
       "                                                                  ('scaler',\n",
       "                                                                   StandardScaler())]),\n",
       "                                                  <sklearn.compose._column_transformer.make_column_selector object at 0x000001A8E7136D90>),\n",
       "                                                 ('categorical',\n",
       "                                                  Pipeline(steps=[('cat_impute',\n",
       "                                                                   SimpleImputer(strategy='most_frequent')),\n",
       "                                                                  ('encode',\n",
       "                                                                   OrdinalEncoder())]),\n",
       "                                                  <sklearn.compose._column_transformer.make_column_selector object at 0x000001A8E7136DC0>)])),\n",
       "                ('tree', DecisionTreeClassifier(max_depth=2, random_state=50))])"
      ]
     },
     "execution_count": 22,
     "metadata": {},
     "output_type": "execute_result"
    }
   ],
   "source": [
    "simple_model_pipe.fit(X_train, y_train)"
   ]
  },
  {
   "cell_type": "code",
   "execution_count": 23,
   "metadata": {},
   "outputs": [
    {
     "data": {
      "text/plain": [
       "0.7220169745381927"
      ]
     },
     "execution_count": 23,
     "metadata": {},
     "output_type": "execute_result"
    }
   ],
   "source": [
    "simple_model_pipe.score(X_train, y_train)"
   ]
  },
  {
   "cell_type": "code",
   "execution_count": 24,
   "metadata": {},
   "outputs": [
    {
     "data": {
      "text/plain": [
       "0.7158903699266137"
      ]
     },
     "execution_count": 24,
     "metadata": {},
     "output_type": "execute_result"
    }
   ],
   "source": [
    "simple_model_pipe.score(X_test, y_test)"
   ]
  },
  {
   "cell_type": "code",
   "execution_count": 25,
   "metadata": {},
   "outputs": [
    {
     "name": "stdout",
     "output_type": "stream",
     "text": [
      "This is our f1 score: 0.7136603773584906\n",
      "This is our roc-auc score: 0.7176303623769451\n",
      "This is our precision score: 0.6812680115273775\n",
      "This is our recall score: 0.7492868462757528\n"
     ]
    }
   ],
   "source": [
    "simple_preds = simple_model_pipe.predict(X_test)\n",
    "print(f'This is our f1 score: {f1_score(y_test, simple_preds)}')\n",
    "print(f'This is our roc-auc score: {roc_auc_score(y_test, simple_preds)}')\n",
    "print(f'This is our precision score: {precision_score(y_test, simple_preds)}')\n",
    "print(f'This is our recall score: {recall_score(y_test, simple_preds)}')"
   ]
  },
  {
   "cell_type": "code",
   "execution_count": 26,
   "metadata": {},
   "outputs": [
    {
     "data": {
      "text/plain": [
       "opinion_seas_vacc_effective    0.591166\n",
       "doctor_recc_seasonal           0.408834\n",
       "h1n1_concern                   0.000000\n",
       "household_adults               0.000000\n",
       "census_msa                     0.000000\n",
       "hhs_geo_region                 0.000000\n",
       "employment_status              0.000000\n",
       "rent_or_own                    0.000000\n",
       "marital_status                 0.000000\n",
       "income_poverty                 0.000000\n",
       "sex                            0.000000\n",
       "race                           0.000000\n",
       "education                      0.000000\n",
       "age_group                      0.000000\n",
       "opinion_seas_sick_from_vacc    0.000000\n",
       "opinion_seas_risk              0.000000\n",
       "opinion_h1n1_sick_from_vacc    0.000000\n",
       "h1n1_knowledge                 0.000000\n",
       "opinion_h1n1_risk              0.000000\n",
       "opinion_h1n1_vacc_effective    0.000000\n",
       "health_worker                  0.000000\n",
       "child_under_6_months           0.000000\n",
       "chronic_med_condition          0.000000\n",
       "doctor_recc_h1n1               0.000000\n",
       "behavioral_touch_face          0.000000\n",
       "behavioral_outside_home        0.000000\n",
       "behavioral_large_gatherings    0.000000\n",
       "behavioral_wash_hands          0.000000\n",
       "behavioral_face_mask           0.000000\n",
       "behavioral_avoidance           0.000000\n",
       "behavioral_antiviral_meds      0.000000\n",
       "household_children             0.000000\n",
       "dtype: float64"
      ]
     },
     "execution_count": 26,
     "metadata": {},
     "output_type": "execute_result"
    }
   ],
   "source": [
    "simple_importance = simple_model_pipe.named_steps['tree'].feature_importances_\n",
    "pd.Series(simple_importance, index=X_train.columns).sort_values(ascending=False)"
   ]
  },
  {
   "cell_type": "code",
   "execution_count": 48,
   "metadata": {},
   "outputs": [],
   "source": [
    "log_model_pipe = Pipeline(steps=[\n",
    "    ('trans', trans), ## need to drop out unused columns from the pipeline\n",
    "    ('log', LogisticRegression(random_state=50))\n",
    "    ])"
   ]
  },
  {
   "cell_type": "code",
   "execution_count": 49,
   "metadata": {},
   "outputs": [
    {
     "name": "stderr",
     "output_type": "stream",
     "text": [
      "c:\\Users\\DJ\\anaconda3\\lib\\site-packages\\sklearn\\utils\\validation.py:993: DataConversionWarning: A column-vector y was passed when a 1d array was expected. Please change the shape of y to (n_samples, ), for example using ravel().\n",
      "  y = column_or_1d(y, warn=True)\n"
     ]
    },
    {
     "data": {
      "text/html": [
       "<style>#sk-7f3fc181-da1d-405f-bd11-af0e07991612 {color: black;background-color: white;}#sk-7f3fc181-da1d-405f-bd11-af0e07991612 pre{padding: 0;}#sk-7f3fc181-da1d-405f-bd11-af0e07991612 div.sk-toggleable {background-color: white;}#sk-7f3fc181-da1d-405f-bd11-af0e07991612 label.sk-toggleable__label {cursor: pointer;display: block;width: 100%;margin-bottom: 0;padding: 0.3em;box-sizing: border-box;text-align: center;}#sk-7f3fc181-da1d-405f-bd11-af0e07991612 label.sk-toggleable__label-arrow:before {content: \"▸\";float: left;margin-right: 0.25em;color: #696969;}#sk-7f3fc181-da1d-405f-bd11-af0e07991612 label.sk-toggleable__label-arrow:hover:before {color: black;}#sk-7f3fc181-da1d-405f-bd11-af0e07991612 div.sk-estimator:hover label.sk-toggleable__label-arrow:before {color: black;}#sk-7f3fc181-da1d-405f-bd11-af0e07991612 div.sk-toggleable__content {max-height: 0;max-width: 0;overflow: hidden;text-align: left;background-color: #f0f8ff;}#sk-7f3fc181-da1d-405f-bd11-af0e07991612 div.sk-toggleable__content pre {margin: 0.2em;color: black;border-radius: 0.25em;background-color: #f0f8ff;}#sk-7f3fc181-da1d-405f-bd11-af0e07991612 input.sk-toggleable__control:checked~div.sk-toggleable__content {max-height: 200px;max-width: 100%;overflow: auto;}#sk-7f3fc181-da1d-405f-bd11-af0e07991612 input.sk-toggleable__control:checked~label.sk-toggleable__label-arrow:before {content: \"▾\";}#sk-7f3fc181-da1d-405f-bd11-af0e07991612 div.sk-estimator input.sk-toggleable__control:checked~label.sk-toggleable__label {background-color: #d4ebff;}#sk-7f3fc181-da1d-405f-bd11-af0e07991612 div.sk-label input.sk-toggleable__control:checked~label.sk-toggleable__label {background-color: #d4ebff;}#sk-7f3fc181-da1d-405f-bd11-af0e07991612 input.sk-hidden--visually {border: 0;clip: rect(1px 1px 1px 1px);clip: rect(1px, 1px, 1px, 1px);height: 1px;margin: -1px;overflow: hidden;padding: 0;position: absolute;width: 1px;}#sk-7f3fc181-da1d-405f-bd11-af0e07991612 div.sk-estimator {font-family: monospace;background-color: #f0f8ff;border: 1px dotted black;border-radius: 0.25em;box-sizing: border-box;margin-bottom: 0.5em;}#sk-7f3fc181-da1d-405f-bd11-af0e07991612 div.sk-estimator:hover {background-color: #d4ebff;}#sk-7f3fc181-da1d-405f-bd11-af0e07991612 div.sk-parallel-item::after {content: \"\";width: 100%;border-bottom: 1px solid gray;flex-grow: 1;}#sk-7f3fc181-da1d-405f-bd11-af0e07991612 div.sk-label:hover label.sk-toggleable__label {background-color: #d4ebff;}#sk-7f3fc181-da1d-405f-bd11-af0e07991612 div.sk-serial::before {content: \"\";position: absolute;border-left: 1px solid gray;box-sizing: border-box;top: 2em;bottom: 0;left: 50%;}#sk-7f3fc181-da1d-405f-bd11-af0e07991612 div.sk-serial {display: flex;flex-direction: column;align-items: center;background-color: white;padding-right: 0.2em;padding-left: 0.2em;}#sk-7f3fc181-da1d-405f-bd11-af0e07991612 div.sk-item {z-index: 1;}#sk-7f3fc181-da1d-405f-bd11-af0e07991612 div.sk-parallel {display: flex;align-items: stretch;justify-content: center;background-color: white;}#sk-7f3fc181-da1d-405f-bd11-af0e07991612 div.sk-parallel::before {content: \"\";position: absolute;border-left: 1px solid gray;box-sizing: border-box;top: 2em;bottom: 0;left: 50%;}#sk-7f3fc181-da1d-405f-bd11-af0e07991612 div.sk-parallel-item {display: flex;flex-direction: column;position: relative;background-color: white;}#sk-7f3fc181-da1d-405f-bd11-af0e07991612 div.sk-parallel-item:first-child::after {align-self: flex-end;width: 50%;}#sk-7f3fc181-da1d-405f-bd11-af0e07991612 div.sk-parallel-item:last-child::after {align-self: flex-start;width: 50%;}#sk-7f3fc181-da1d-405f-bd11-af0e07991612 div.sk-parallel-item:only-child::after {width: 0;}#sk-7f3fc181-da1d-405f-bd11-af0e07991612 div.sk-dashed-wrapped {border: 1px dashed gray;margin: 0 0.4em 0.5em 0.4em;box-sizing: border-box;padding-bottom: 0.4em;background-color: white;position: relative;}#sk-7f3fc181-da1d-405f-bd11-af0e07991612 div.sk-label label {font-family: monospace;font-weight: bold;background-color: white;display: inline-block;line-height: 1.2em;}#sk-7f3fc181-da1d-405f-bd11-af0e07991612 div.sk-label-container {position: relative;z-index: 2;text-align: center;}#sk-7f3fc181-da1d-405f-bd11-af0e07991612 div.sk-container {/* jupyter's `normalize.less` sets `[hidden] { display: none; }` but bootstrap.min.css set `[hidden] { display: none !important; }` so we also need the `!important` here to be able to override the default hidden behavior on the sphinx rendered scikit-learn.org. See: https://github.com/scikit-learn/scikit-learn/issues/21755 */display: inline-block !important;position: relative;}#sk-7f3fc181-da1d-405f-bd11-af0e07991612 div.sk-text-repr-fallback {display: none;}</style><div id=\"sk-7f3fc181-da1d-405f-bd11-af0e07991612\" class=\"sk-top-container\"><div class=\"sk-text-repr-fallback\"><pre>Pipeline(steps=[(&#x27;trans&#x27;,\n",
       "                 ColumnTransformer(transformers=[(&#x27;numerical&#x27;,\n",
       "                                                  Pipeline(steps=[(&#x27;impute_nums&#x27;,\n",
       "                                                                   SimpleImputer(strategy=&#x27;median&#x27;)),\n",
       "                                                                  (&#x27;scaler&#x27;,\n",
       "                                                                   StandardScaler())]),\n",
       "                                                  &lt;sklearn.compose._column_transformer.make_column_selector object at 0x000001A8E7136D90&gt;),\n",
       "                                                 (&#x27;categorical&#x27;,\n",
       "                                                  Pipeline(steps=[(&#x27;cat_impute&#x27;,\n",
       "                                                                   SimpleImputer(strategy=&#x27;most_frequent&#x27;)),\n",
       "                                                                  (&#x27;encode&#x27;,\n",
       "                                                                   OrdinalEncoder())]),\n",
       "                                                  &lt;sklearn.compose._column_transformer.make_column_selector object at 0x000001A8E7136DC0&gt;)])),\n",
       "                (&#x27;log&#x27;, LogisticRegression(random_state=50))])</pre><b>Please rerun this cell to show the HTML repr or trust the notebook.</b></div><div class=\"sk-container\" hidden><div class=\"sk-item sk-dashed-wrapped\"><div class=\"sk-label-container\"><div class=\"sk-label sk-toggleable\"><input class=\"sk-toggleable__control sk-hidden--visually\" id=\"033c91ca-d30a-4a67-9e36-4e33ae427497\" type=\"checkbox\" ><label for=\"033c91ca-d30a-4a67-9e36-4e33ae427497\" class=\"sk-toggleable__label sk-toggleable__label-arrow\">Pipeline</label><div class=\"sk-toggleable__content\"><pre>Pipeline(steps=[(&#x27;trans&#x27;,\n",
       "                 ColumnTransformer(transformers=[(&#x27;numerical&#x27;,\n",
       "                                                  Pipeline(steps=[(&#x27;impute_nums&#x27;,\n",
       "                                                                   SimpleImputer(strategy=&#x27;median&#x27;)),\n",
       "                                                                  (&#x27;scaler&#x27;,\n",
       "                                                                   StandardScaler())]),\n",
       "                                                  &lt;sklearn.compose._column_transformer.make_column_selector object at 0x000001A8E7136D90&gt;),\n",
       "                                                 (&#x27;categorical&#x27;,\n",
       "                                                  Pipeline(steps=[(&#x27;cat_impute&#x27;,\n",
       "                                                                   SimpleImputer(strategy=&#x27;most_frequent&#x27;)),\n",
       "                                                                  (&#x27;encode&#x27;,\n",
       "                                                                   OrdinalEncoder())]),\n",
       "                                                  &lt;sklearn.compose._column_transformer.make_column_selector object at 0x000001A8E7136DC0&gt;)])),\n",
       "                (&#x27;log&#x27;, LogisticRegression(random_state=50))])</pre></div></div></div><div class=\"sk-serial\"><div class=\"sk-item sk-dashed-wrapped\"><div class=\"sk-label-container\"><div class=\"sk-label sk-toggleable\"><input class=\"sk-toggleable__control sk-hidden--visually\" id=\"8d80ca53-df62-46c6-b0e9-b24abb19296d\" type=\"checkbox\" ><label for=\"8d80ca53-df62-46c6-b0e9-b24abb19296d\" class=\"sk-toggleable__label sk-toggleable__label-arrow\">trans: ColumnTransformer</label><div class=\"sk-toggleable__content\"><pre>ColumnTransformer(transformers=[(&#x27;numerical&#x27;,\n",
       "                                 Pipeline(steps=[(&#x27;impute_nums&#x27;,\n",
       "                                                  SimpleImputer(strategy=&#x27;median&#x27;)),\n",
       "                                                 (&#x27;scaler&#x27;, StandardScaler())]),\n",
       "                                 &lt;sklearn.compose._column_transformer.make_column_selector object at 0x000001A8E7136D90&gt;),\n",
       "                                (&#x27;categorical&#x27;,\n",
       "                                 Pipeline(steps=[(&#x27;cat_impute&#x27;,\n",
       "                                                  SimpleImputer(strategy=&#x27;most_frequent&#x27;)),\n",
       "                                                 (&#x27;encode&#x27;, OrdinalEncoder())]),\n",
       "                                 &lt;sklearn.compose._column_transformer.make_column_selector object at 0x000001A8E7136DC0&gt;)])</pre></div></div></div><div class=\"sk-parallel\"><div class=\"sk-parallel-item\"><div class=\"sk-item\"><div class=\"sk-label-container\"><div class=\"sk-label sk-toggleable\"><input class=\"sk-toggleable__control sk-hidden--visually\" id=\"fb5c555d-45c9-48d9-bb41-28bd57f1636f\" type=\"checkbox\" ><label for=\"fb5c555d-45c9-48d9-bb41-28bd57f1636f\" class=\"sk-toggleable__label sk-toggleable__label-arrow\">numerical</label><div class=\"sk-toggleable__content\"><pre>&lt;sklearn.compose._column_transformer.make_column_selector object at 0x000001A8E7136D90&gt;</pre></div></div></div><div class=\"sk-serial\"><div class=\"sk-item\"><div class=\"sk-serial\"><div class=\"sk-item\"><div class=\"sk-estimator sk-toggleable\"><input class=\"sk-toggleable__control sk-hidden--visually\" id=\"415ba1f0-d4fa-4f2a-8eb6-ca414e332bb9\" type=\"checkbox\" ><label for=\"415ba1f0-d4fa-4f2a-8eb6-ca414e332bb9\" class=\"sk-toggleable__label sk-toggleable__label-arrow\">SimpleImputer</label><div class=\"sk-toggleable__content\"><pre>SimpleImputer(strategy=&#x27;median&#x27;)</pre></div></div></div><div class=\"sk-item\"><div class=\"sk-estimator sk-toggleable\"><input class=\"sk-toggleable__control sk-hidden--visually\" id=\"cf0d67bb-6888-4158-bcdd-8856ad083170\" type=\"checkbox\" ><label for=\"cf0d67bb-6888-4158-bcdd-8856ad083170\" class=\"sk-toggleable__label sk-toggleable__label-arrow\">StandardScaler</label><div class=\"sk-toggleable__content\"><pre>StandardScaler()</pre></div></div></div></div></div></div></div></div><div class=\"sk-parallel-item\"><div class=\"sk-item\"><div class=\"sk-label-container\"><div class=\"sk-label sk-toggleable\"><input class=\"sk-toggleable__control sk-hidden--visually\" id=\"d5865004-2759-4470-85f1-c902491e7977\" type=\"checkbox\" ><label for=\"d5865004-2759-4470-85f1-c902491e7977\" class=\"sk-toggleable__label sk-toggleable__label-arrow\">categorical</label><div class=\"sk-toggleable__content\"><pre>&lt;sklearn.compose._column_transformer.make_column_selector object at 0x000001A8E7136DC0&gt;</pre></div></div></div><div class=\"sk-serial\"><div class=\"sk-item\"><div class=\"sk-serial\"><div class=\"sk-item\"><div class=\"sk-estimator sk-toggleable\"><input class=\"sk-toggleable__control sk-hidden--visually\" id=\"f60f647f-fe63-40f9-b958-6df7a383bcb7\" type=\"checkbox\" ><label for=\"f60f647f-fe63-40f9-b958-6df7a383bcb7\" class=\"sk-toggleable__label sk-toggleable__label-arrow\">SimpleImputer</label><div class=\"sk-toggleable__content\"><pre>SimpleImputer(strategy=&#x27;most_frequent&#x27;)</pre></div></div></div><div class=\"sk-item\"><div class=\"sk-estimator sk-toggleable\"><input class=\"sk-toggleable__control sk-hidden--visually\" id=\"df0ceec0-6330-4703-881e-5d9df75a56ac\" type=\"checkbox\" ><label for=\"df0ceec0-6330-4703-881e-5d9df75a56ac\" class=\"sk-toggleable__label sk-toggleable__label-arrow\">OrdinalEncoder</label><div class=\"sk-toggleable__content\"><pre>OrdinalEncoder()</pre></div></div></div></div></div></div></div></div></div></div><div class=\"sk-item\"><div class=\"sk-estimator sk-toggleable\"><input class=\"sk-toggleable__control sk-hidden--visually\" id=\"c2910f26-074e-4412-a7fa-fd192301d2e8\" type=\"checkbox\" ><label for=\"c2910f26-074e-4412-a7fa-fd192301d2e8\" class=\"sk-toggleable__label sk-toggleable__label-arrow\">LogisticRegression</label><div class=\"sk-toggleable__content\"><pre>LogisticRegression(random_state=50)</pre></div></div></div></div></div></div></div>"
      ],
      "text/plain": [
       "Pipeline(steps=[('trans',\n",
       "                 ColumnTransformer(transformers=[('numerical',\n",
       "                                                  Pipeline(steps=[('impute_nums',\n",
       "                                                                   SimpleImputer(strategy='median')),\n",
       "                                                                  ('scaler',\n",
       "                                                                   StandardScaler())]),\n",
       "                                                  <sklearn.compose._column_transformer.make_column_selector object at 0x000001A8E7136D90>),\n",
       "                                                 ('categorical',\n",
       "                                                  Pipeline(steps=[('cat_impute',\n",
       "                                                                   SimpleImputer(strategy='most_frequent')),\n",
       "                                                                  ('encode',\n",
       "                                                                   OrdinalEncoder())]),\n",
       "                                                  <sklearn.compose._column_transformer.make_column_selector object at 0x000001A8E7136DC0>)])),\n",
       "                ('log', LogisticRegression(random_state=50))])"
      ]
     },
     "execution_count": 49,
     "metadata": {},
     "output_type": "execute_result"
    }
   ],
   "source": [
    "log_model_pipe.fit(X_train[['opinion_seas_vacc_effective', 'doctor_recc_seasonal']], y_train)"
   ]
  },
  {
   "cell_type": "code",
   "execution_count": 50,
   "metadata": {},
   "outputs": [
    {
     "data": {
      "text/plain": [
       "0.7259248165343717"
      ]
     },
     "execution_count": 50,
     "metadata": {},
     "output_type": "execute_result"
    }
   ],
   "source": [
    "log_model_pipe.score(X_test[['opinion_seas_vacc_effective', 'doctor_recc_seasonal']], y_test)"
   ]
  },
  {
   "cell_type": "code",
   "execution_count": 51,
   "metadata": {},
   "outputs": [],
   "source": [
    "simplog_preds = log_model_pipe.predict(X_test[['opinion_seas_vacc_effective', 'doctor_recc_seasonal']])"
   ]
  },
  {
   "cell_type": "code",
   "execution_count": 52,
   "metadata": {},
   "outputs": [
    {
     "name": "stdout",
     "output_type": "stream",
     "text": [
      "This is our f1 score: 0.7166305357695881\n",
      "This is our roc-auc score: 0.7263163128571055\n",
      "This is our precision score: 0.7005752346351801\n",
      "This is our recall score: 0.7334389857369256\n"
     ]
    }
   ],
   "source": [
    "print(f'This is our f1 score: {f1_score(y_test, simplog_preds)}')\n",
    "print(f'This is our roc-auc score: {roc_auc_score(y_test, simplog_preds)}')\n",
    "print(f'This is our precision score: {precision_score(y_test, simplog_preds)}')\n",
    "print(f'This is our recall score: {recall_score(y_test, simplog_preds)}')"
   ]
  },
  {
   "cell_type": "code",
   "execution_count": 53,
   "metadata": {},
   "outputs": [
    {
     "data": {
      "text/plain": [
       "array([[0.85995859, 0.73711464]])"
      ]
     },
     "execution_count": 53,
     "metadata": {},
     "output_type": "execute_result"
    }
   ],
   "source": [
    "log_odds = log_model_pipe.named_steps['log'].coef_\n",
    "log_odds"
   ]
  },
  {
   "cell_type": "code",
   "execution_count": 54,
   "metadata": {},
   "outputs": [],
   "source": [
    "def logOddsPipelineConverter(data):\n",
    "    odds = []\n",
    "    for item in data:\n",
    "        for score in item:\n",
    "            odds.append((np.exp(score) - 1)*100)\n",
    "    return odds"
   ]
  },
  {
   "cell_type": "code",
   "execution_count": 55,
   "metadata": {},
   "outputs": [
    {
     "data": {
      "text/plain": [
       "[136.30628447193388, 108.98967095230799]"
      ]
     },
     "execution_count": 55,
     "metadata": {},
     "output_type": "execute_result"
    }
   ],
   "source": [
    "logOddsPipelineConverter(log_odds)"
   ]
  },
  {
   "cell_type": "code",
   "execution_count": 56,
   "metadata": {},
   "outputs": [
    {
     "data": {
      "text/plain": [
       "count    19678.000000\n",
       "mean         4.027086\n",
       "std          1.088888\n",
       "min          1.000000\n",
       "25%          4.000000\n",
       "50%          4.000000\n",
       "75%          5.000000\n",
       "max          5.000000\n",
       "Name: opinion_seas_vacc_effective, dtype: float64"
      ]
     },
     "execution_count": 56,
     "metadata": {},
     "output_type": "execute_result"
    }
   ],
   "source": [
    "X_train['opinion_seas_vacc_effective'].describe()"
   ]
  },
  {
   "cell_type": "code",
   "execution_count": 57,
   "metadata": {},
   "outputs": [
    {
     "data": {
      "text/plain": [
       "count    18452.000000\n",
       "mean         0.327119\n",
       "std          0.469174\n",
       "min          0.000000\n",
       "25%          0.000000\n",
       "50%          0.000000\n",
       "75%          1.000000\n",
       "max          1.000000\n",
       "Name: doctor_recc_seasonal, dtype: float64"
      ]
     },
     "execution_count": 57,
     "metadata": {},
     "output_type": "execute_result"
    }
   ],
   "source": [
    "X_train['doctor_recc_seasonal'].describe()"
   ]
  },
  {
   "cell_type": "code",
   "execution_count": 58,
   "metadata": {},
   "outputs": [],
   "source": [
    "X_train_trans = pd.DataFrame(trans.fit_transform(X_train),\n",
    "             columns=cols,\n",
    "             index=X_train.index)"
   ]
  },
  {
   "cell_type": "code",
   "execution_count": 59,
   "metadata": {},
   "outputs": [
    {
     "data": {
      "text/plain": [
       "opinion_seas_risk              0.386732\n",
       "doctor_recc_seasonal           0.367122\n",
       "opinion_seas_vacc_effective    0.356234\n",
       "age_group                      0.280576\n",
       "opinion_h1n1_risk              0.218364\n",
       "opinion_h1n1_vacc_effective    0.203845\n",
       "doctor_recc_h1n1               0.202799\n",
       "chronic_med_condition          0.176750\n",
       "h1n1_concern                   0.151502\n",
       "health_worker                  0.127277\n",
       "h1n1_knowledge                 0.120049\n",
       "behavioral_touch_face          0.119534\n",
       "behavioral_wash_hands          0.108003\n",
       "race                           0.099749\n",
       "behavioral_avoidance           0.077706\n",
       "employment_status              0.062044\n",
       "behavioral_large_gatherings    0.061561\n",
       "behavioral_outside_home        0.053363\n",
       "behavioral_face_mask           0.051062\n",
       "opinion_h1n1_sick_from_vacc    0.024881\n",
       "education                      0.022890\n",
       "child_under_6_months           0.015628\n",
       "behavioral_antiviral_meds      0.001990\n",
       "census_msa                    -0.013233\n",
       "hhs_geo_region                -0.020212\n",
       "income_poverty                -0.037859\n",
       "marital_status                -0.039224\n",
       "opinion_seas_sick_from_vacc   -0.060349\n",
       "household_adults              -0.071510\n",
       "sex                           -0.076401\n",
       "rent_or_own                   -0.098460\n",
       "household_children            -0.115075\n",
       "dtype: float64"
      ]
     },
     "execution_count": 59,
     "metadata": {},
     "output_type": "execute_result"
    }
   ],
   "source": [
    "X_train_trans.corrwith(y_train['seasonal_vaccine']).sort_values(ascending=False)"
   ]
  },
  {
   "cell_type": "code",
   "execution_count": 60,
   "metadata": {},
   "outputs": [
    {
     "data": {
      "text/plain": [
       "opinion_seas_vacc_effective    1.000000\n",
       "opinion_h1n1_vacc_effective    0.475409\n",
       "opinion_seas_risk              0.344946\n",
       "h1n1_concern                   0.231543\n",
       "opinion_h1n1_risk              0.225527\n",
       "doctor_recc_seasonal           0.172938\n",
       "behavioral_wash_hands          0.139549\n",
       "age_group                      0.131859\n",
       "behavioral_avoidance           0.115372\n",
       "behavioral_touch_face          0.106723\n",
       "doctor_recc_h1n1               0.106182\n",
       "chronic_med_condition          0.092186\n",
       "h1n1_knowledge                 0.088002\n",
       "behavioral_large_gatherings    0.079590\n",
       "opinion_h1n1_sick_from_vacc    0.078400\n",
       "behavioral_outside_home        0.067623\n",
       "race                           0.061741\n",
       "employment_status              0.051741\n",
       "health_worker                  0.034140\n",
       "behavioral_face_mask           0.033189\n",
       "child_under_6_months           0.011288\n",
       "behavioral_antiviral_meds      0.010115\n",
       "education                      0.000554\n",
       "income_poverty                -0.010229\n",
       "census_msa                    -0.010507\n",
       "marital_status                -0.011236\n",
       "opinion_seas_sick_from_vacc   -0.014065\n",
       "hhs_geo_region                -0.018487\n",
       "household_adults              -0.020253\n",
       "rent_or_own                   -0.035096\n",
       "sex                           -0.049734\n",
       "household_children            -0.069995\n",
       "Name: opinion_seas_vacc_effective, dtype: float64"
      ]
     },
     "execution_count": 60,
     "metadata": {},
     "output_type": "execute_result"
    }
   ],
   "source": [
    "X_train_trans.corr()['opinion_seas_vacc_effective'].sort_values(ascending=False)"
   ]
  },
  {
   "cell_type": "code",
   "execution_count": 61,
   "metadata": {},
   "outputs": [
    {
     "data": {
      "text/plain": [
       "White                15909\n",
       "Black                 1587\n",
       "Hispanic              1321\n",
       "Other or Multiple     1213\n",
       "Name: race, dtype: int64"
      ]
     },
     "execution_count": 61,
     "metadata": {},
     "output_type": "execute_result"
    }
   ],
   "source": [
    "X_train['race'].value_counts()"
   ]
  },
  {
   "cell_type": "code",
   "execution_count": 62,
   "metadata": {},
   "outputs": [
    {
     "data": {
      "text/plain": [
       "3.0    15909\n",
       "0.0     1587\n",
       "1.0     1321\n",
       "2.0     1213\n",
       "Name: race, dtype: int64"
      ]
     },
     "execution_count": 62,
     "metadata": {},
     "output_type": "execute_result"
    }
   ],
   "source": [
    "X_train_trans['race'].value_counts()"
   ]
  },
  {
   "cell_type": "code",
   "execution_count": 65,
   "metadata": {},
   "outputs": [
    {
     "name": "stderr",
     "output_type": "stream",
     "text": [
      "c:\\Users\\DJ\\anaconda3\\lib\\site-packages\\sklearn\\utils\\validation.py:993: DataConversionWarning: A column-vector y was passed when a 1d array was expected. Please change the shape of y to (n_samples, ), for example using ravel().\n",
      "  y = column_or_1d(y, warn=True)\n"
     ]
    },
    {
     "data": {
      "text/html": [
       "<style>#sk-56059f1f-0111-4276-99ab-ac5421695842 {color: black;background-color: white;}#sk-56059f1f-0111-4276-99ab-ac5421695842 pre{padding: 0;}#sk-56059f1f-0111-4276-99ab-ac5421695842 div.sk-toggleable {background-color: white;}#sk-56059f1f-0111-4276-99ab-ac5421695842 label.sk-toggleable__label {cursor: pointer;display: block;width: 100%;margin-bottom: 0;padding: 0.3em;box-sizing: border-box;text-align: center;}#sk-56059f1f-0111-4276-99ab-ac5421695842 label.sk-toggleable__label-arrow:before {content: \"▸\";float: left;margin-right: 0.25em;color: #696969;}#sk-56059f1f-0111-4276-99ab-ac5421695842 label.sk-toggleable__label-arrow:hover:before {color: black;}#sk-56059f1f-0111-4276-99ab-ac5421695842 div.sk-estimator:hover label.sk-toggleable__label-arrow:before {color: black;}#sk-56059f1f-0111-4276-99ab-ac5421695842 div.sk-toggleable__content {max-height: 0;max-width: 0;overflow: hidden;text-align: left;background-color: #f0f8ff;}#sk-56059f1f-0111-4276-99ab-ac5421695842 div.sk-toggleable__content pre {margin: 0.2em;color: black;border-radius: 0.25em;background-color: #f0f8ff;}#sk-56059f1f-0111-4276-99ab-ac5421695842 input.sk-toggleable__control:checked~div.sk-toggleable__content {max-height: 200px;max-width: 100%;overflow: auto;}#sk-56059f1f-0111-4276-99ab-ac5421695842 input.sk-toggleable__control:checked~label.sk-toggleable__label-arrow:before {content: \"▾\";}#sk-56059f1f-0111-4276-99ab-ac5421695842 div.sk-estimator input.sk-toggleable__control:checked~label.sk-toggleable__label {background-color: #d4ebff;}#sk-56059f1f-0111-4276-99ab-ac5421695842 div.sk-label input.sk-toggleable__control:checked~label.sk-toggleable__label {background-color: #d4ebff;}#sk-56059f1f-0111-4276-99ab-ac5421695842 input.sk-hidden--visually {border: 0;clip: rect(1px 1px 1px 1px);clip: rect(1px, 1px, 1px, 1px);height: 1px;margin: -1px;overflow: hidden;padding: 0;position: absolute;width: 1px;}#sk-56059f1f-0111-4276-99ab-ac5421695842 div.sk-estimator {font-family: monospace;background-color: #f0f8ff;border: 1px dotted black;border-radius: 0.25em;box-sizing: border-box;margin-bottom: 0.5em;}#sk-56059f1f-0111-4276-99ab-ac5421695842 div.sk-estimator:hover {background-color: #d4ebff;}#sk-56059f1f-0111-4276-99ab-ac5421695842 div.sk-parallel-item::after {content: \"\";width: 100%;border-bottom: 1px solid gray;flex-grow: 1;}#sk-56059f1f-0111-4276-99ab-ac5421695842 div.sk-label:hover label.sk-toggleable__label {background-color: #d4ebff;}#sk-56059f1f-0111-4276-99ab-ac5421695842 div.sk-serial::before {content: \"\";position: absolute;border-left: 1px solid gray;box-sizing: border-box;top: 2em;bottom: 0;left: 50%;}#sk-56059f1f-0111-4276-99ab-ac5421695842 div.sk-serial {display: flex;flex-direction: column;align-items: center;background-color: white;padding-right: 0.2em;padding-left: 0.2em;}#sk-56059f1f-0111-4276-99ab-ac5421695842 div.sk-item {z-index: 1;}#sk-56059f1f-0111-4276-99ab-ac5421695842 div.sk-parallel {display: flex;align-items: stretch;justify-content: center;background-color: white;}#sk-56059f1f-0111-4276-99ab-ac5421695842 div.sk-parallel::before {content: \"\";position: absolute;border-left: 1px solid gray;box-sizing: border-box;top: 2em;bottom: 0;left: 50%;}#sk-56059f1f-0111-4276-99ab-ac5421695842 div.sk-parallel-item {display: flex;flex-direction: column;position: relative;background-color: white;}#sk-56059f1f-0111-4276-99ab-ac5421695842 div.sk-parallel-item:first-child::after {align-self: flex-end;width: 50%;}#sk-56059f1f-0111-4276-99ab-ac5421695842 div.sk-parallel-item:last-child::after {align-self: flex-start;width: 50%;}#sk-56059f1f-0111-4276-99ab-ac5421695842 div.sk-parallel-item:only-child::after {width: 0;}#sk-56059f1f-0111-4276-99ab-ac5421695842 div.sk-dashed-wrapped {border: 1px dashed gray;margin: 0 0.4em 0.5em 0.4em;box-sizing: border-box;padding-bottom: 0.4em;background-color: white;position: relative;}#sk-56059f1f-0111-4276-99ab-ac5421695842 div.sk-label label {font-family: monospace;font-weight: bold;background-color: white;display: inline-block;line-height: 1.2em;}#sk-56059f1f-0111-4276-99ab-ac5421695842 div.sk-label-container {position: relative;z-index: 2;text-align: center;}#sk-56059f1f-0111-4276-99ab-ac5421695842 div.sk-container {/* jupyter's `normalize.less` sets `[hidden] { display: none; }` but bootstrap.min.css set `[hidden] { display: none !important; }` so we also need the `!important` here to be able to override the default hidden behavior on the sphinx rendered scikit-learn.org. See: https://github.com/scikit-learn/scikit-learn/issues/21755 */display: inline-block !important;position: relative;}#sk-56059f1f-0111-4276-99ab-ac5421695842 div.sk-text-repr-fallback {display: none;}</style><div id=\"sk-56059f1f-0111-4276-99ab-ac5421695842\" class=\"sk-top-container\"><div class=\"sk-text-repr-fallback\"><pre>Pipeline(steps=[(&#x27;trans&#x27;,\n",
       "                 ColumnTransformer(transformers=[(&#x27;numerical&#x27;,\n",
       "                                                  Pipeline(steps=[(&#x27;impute_nums&#x27;,\n",
       "                                                                   SimpleImputer(strategy=&#x27;median&#x27;)),\n",
       "                                                                  (&#x27;scaler&#x27;,\n",
       "                                                                   StandardScaler())]),\n",
       "                                                  &lt;sklearn.compose._column_transformer.make_column_selector object at 0x000001A8E7136D90&gt;),\n",
       "                                                 (&#x27;categorical&#x27;,\n",
       "                                                  Pipeline(steps=[(&#x27;cat_impute&#x27;,\n",
       "                                                                   SimpleImputer(strategy=&#x27;most_frequent&#x27;)),\n",
       "                                                                  (&#x27;encode&#x27;,\n",
       "                                                                   OrdinalEncoder())]),\n",
       "                                                  &lt;sklearn.compose._column_transformer.make_column_selector object at 0x000001A8E7136DC0&gt;)])),\n",
       "                (&#x27;log&#x27;, LogisticRegression(random_state=50))])</pre><b>Please rerun this cell to show the HTML repr or trust the notebook.</b></div><div class=\"sk-container\" hidden><div class=\"sk-item sk-dashed-wrapped\"><div class=\"sk-label-container\"><div class=\"sk-label sk-toggleable\"><input class=\"sk-toggleable__control sk-hidden--visually\" id=\"aaa8ec76-2fe5-467d-9c1f-ba43b03a4334\" type=\"checkbox\" ><label for=\"aaa8ec76-2fe5-467d-9c1f-ba43b03a4334\" class=\"sk-toggleable__label sk-toggleable__label-arrow\">Pipeline</label><div class=\"sk-toggleable__content\"><pre>Pipeline(steps=[(&#x27;trans&#x27;,\n",
       "                 ColumnTransformer(transformers=[(&#x27;numerical&#x27;,\n",
       "                                                  Pipeline(steps=[(&#x27;impute_nums&#x27;,\n",
       "                                                                   SimpleImputer(strategy=&#x27;median&#x27;)),\n",
       "                                                                  (&#x27;scaler&#x27;,\n",
       "                                                                   StandardScaler())]),\n",
       "                                                  &lt;sklearn.compose._column_transformer.make_column_selector object at 0x000001A8E7136D90&gt;),\n",
       "                                                 (&#x27;categorical&#x27;,\n",
       "                                                  Pipeline(steps=[(&#x27;cat_impute&#x27;,\n",
       "                                                                   SimpleImputer(strategy=&#x27;most_frequent&#x27;)),\n",
       "                                                                  (&#x27;encode&#x27;,\n",
       "                                                                   OrdinalEncoder())]),\n",
       "                                                  &lt;sklearn.compose._column_transformer.make_column_selector object at 0x000001A8E7136DC0&gt;)])),\n",
       "                (&#x27;log&#x27;, LogisticRegression(random_state=50))])</pre></div></div></div><div class=\"sk-serial\"><div class=\"sk-item sk-dashed-wrapped\"><div class=\"sk-label-container\"><div class=\"sk-label sk-toggleable\"><input class=\"sk-toggleable__control sk-hidden--visually\" id=\"6de274ca-96df-4b88-9458-285d258fbf1f\" type=\"checkbox\" ><label for=\"6de274ca-96df-4b88-9458-285d258fbf1f\" class=\"sk-toggleable__label sk-toggleable__label-arrow\">trans: ColumnTransformer</label><div class=\"sk-toggleable__content\"><pre>ColumnTransformer(transformers=[(&#x27;numerical&#x27;,\n",
       "                                 Pipeline(steps=[(&#x27;impute_nums&#x27;,\n",
       "                                                  SimpleImputer(strategy=&#x27;median&#x27;)),\n",
       "                                                 (&#x27;scaler&#x27;, StandardScaler())]),\n",
       "                                 &lt;sklearn.compose._column_transformer.make_column_selector object at 0x000001A8E7136D90&gt;),\n",
       "                                (&#x27;categorical&#x27;,\n",
       "                                 Pipeline(steps=[(&#x27;cat_impute&#x27;,\n",
       "                                                  SimpleImputer(strategy=&#x27;most_frequent&#x27;)),\n",
       "                                                 (&#x27;encode&#x27;, OrdinalEncoder())]),\n",
       "                                 &lt;sklearn.compose._column_transformer.make_column_selector object at 0x000001A8E7136DC0&gt;)])</pre></div></div></div><div class=\"sk-parallel\"><div class=\"sk-parallel-item\"><div class=\"sk-item\"><div class=\"sk-label-container\"><div class=\"sk-label sk-toggleable\"><input class=\"sk-toggleable__control sk-hidden--visually\" id=\"45a943ef-f20b-4153-a473-bb1eed90bddc\" type=\"checkbox\" ><label for=\"45a943ef-f20b-4153-a473-bb1eed90bddc\" class=\"sk-toggleable__label sk-toggleable__label-arrow\">numerical</label><div class=\"sk-toggleable__content\"><pre>&lt;sklearn.compose._column_transformer.make_column_selector object at 0x000001A8E7136D90&gt;</pre></div></div></div><div class=\"sk-serial\"><div class=\"sk-item\"><div class=\"sk-serial\"><div class=\"sk-item\"><div class=\"sk-estimator sk-toggleable\"><input class=\"sk-toggleable__control sk-hidden--visually\" id=\"62c1dff7-7627-4e44-a694-f042f0bba788\" type=\"checkbox\" ><label for=\"62c1dff7-7627-4e44-a694-f042f0bba788\" class=\"sk-toggleable__label sk-toggleable__label-arrow\">SimpleImputer</label><div class=\"sk-toggleable__content\"><pre>SimpleImputer(strategy=&#x27;median&#x27;)</pre></div></div></div><div class=\"sk-item\"><div class=\"sk-estimator sk-toggleable\"><input class=\"sk-toggleable__control sk-hidden--visually\" id=\"24adcab9-3872-4e14-84db-69047723862c\" type=\"checkbox\" ><label for=\"24adcab9-3872-4e14-84db-69047723862c\" class=\"sk-toggleable__label sk-toggleable__label-arrow\">StandardScaler</label><div class=\"sk-toggleable__content\"><pre>StandardScaler()</pre></div></div></div></div></div></div></div></div><div class=\"sk-parallel-item\"><div class=\"sk-item\"><div class=\"sk-label-container\"><div class=\"sk-label sk-toggleable\"><input class=\"sk-toggleable__control sk-hidden--visually\" id=\"e7930e14-65e6-4e39-b74f-aba5b7b178b1\" type=\"checkbox\" ><label for=\"e7930e14-65e6-4e39-b74f-aba5b7b178b1\" class=\"sk-toggleable__label sk-toggleable__label-arrow\">categorical</label><div class=\"sk-toggleable__content\"><pre>&lt;sklearn.compose._column_transformer.make_column_selector object at 0x000001A8E7136DC0&gt;</pre></div></div></div><div class=\"sk-serial\"><div class=\"sk-item\"><div class=\"sk-serial\"><div class=\"sk-item\"><div class=\"sk-estimator sk-toggleable\"><input class=\"sk-toggleable__control sk-hidden--visually\" id=\"e0cbaa20-5e05-4d3f-afed-55e7e1c8ad26\" type=\"checkbox\" ><label for=\"e0cbaa20-5e05-4d3f-afed-55e7e1c8ad26\" class=\"sk-toggleable__label sk-toggleable__label-arrow\">SimpleImputer</label><div class=\"sk-toggleable__content\"><pre>SimpleImputer(strategy=&#x27;most_frequent&#x27;)</pre></div></div></div><div class=\"sk-item\"><div class=\"sk-estimator sk-toggleable\"><input class=\"sk-toggleable__control sk-hidden--visually\" id=\"820ccef4-5103-451c-bae2-2ca0cd7d2a16\" type=\"checkbox\" ><label for=\"820ccef4-5103-451c-bae2-2ca0cd7d2a16\" class=\"sk-toggleable__label sk-toggleable__label-arrow\">OrdinalEncoder</label><div class=\"sk-toggleable__content\"><pre>OrdinalEncoder()</pre></div></div></div></div></div></div></div></div></div></div><div class=\"sk-item\"><div class=\"sk-estimator sk-toggleable\"><input class=\"sk-toggleable__control sk-hidden--visually\" id=\"498d89bb-f6f9-4332-abcd-1007930a2272\" type=\"checkbox\" ><label for=\"498d89bb-f6f9-4332-abcd-1007930a2272\" class=\"sk-toggleable__label sk-toggleable__label-arrow\">LogisticRegression</label><div class=\"sk-toggleable__content\"><pre>LogisticRegression(random_state=50)</pre></div></div></div></div></div></div></div>"
      ],
      "text/plain": [
       "Pipeline(steps=[('trans',\n",
       "                 ColumnTransformer(transformers=[('numerical',\n",
       "                                                  Pipeline(steps=[('impute_nums',\n",
       "                                                                   SimpleImputer(strategy='median')),\n",
       "                                                                  ('scaler',\n",
       "                                                                   StandardScaler())]),\n",
       "                                                  <sklearn.compose._column_transformer.make_column_selector object at 0x000001A8E7136D90>),\n",
       "                                                 ('categorical',\n",
       "                                                  Pipeline(steps=[('cat_impute',\n",
       "                                                                   SimpleImputer(strategy='most_frequent')),\n",
       "                                                                  ('encode',\n",
       "                                                                   OrdinalEncoder())]),\n",
       "                                                  <sklearn.compose._column_transformer.make_column_selector object at 0x000001A8E7136DC0>)])),\n",
       "                ('log', LogisticRegression(random_state=50))])"
      ]
     },
     "execution_count": 65,
     "metadata": {},
     "output_type": "execute_result"
    }
   ],
   "source": [
    "log_model_pipe.fit(X_train, y_train)"
   ]
  },
  {
   "cell_type": "code",
   "execution_count": 67,
   "metadata": {},
   "outputs": [
    {
     "data": {
      "text/plain": [
       "0.7759860209685472"
      ]
     },
     "execution_count": 67,
     "metadata": {},
     "output_type": "execute_result"
    }
   ],
   "source": [
    "log_model_pipe.score(X_train, y_train)"
   ]
  },
  {
   "cell_type": "code",
   "execution_count": 68,
   "metadata": {},
   "outputs": [
    {
     "data": {
      "text/plain": [
       "0.7659128351055864"
      ]
     },
     "execution_count": 68,
     "metadata": {},
     "output_type": "execute_result"
    }
   ],
   "source": [
    "log_model_pipe.score(X_test, y_test)"
   ]
  },
  {
   "cell_type": "code",
   "execution_count": 73,
   "metadata": {},
   "outputs": [
    {
     "data": {
      "text/plain": [
       "opinion_seas_risk              0.713229\n",
       "doctor_recc_seasonal           0.680935\n",
       "opinion_seas_vacc_effective    0.599357\n",
       "age_group                      0.369784\n",
       "health_worker                  0.250859\n",
       "h1n1_knowledge                 0.106490\n",
       "chronic_med_condition          0.105837\n",
       "race                           0.104859\n",
       "behavioral_touch_face          0.103943\n",
       "opinion_h1n1_risk              0.070264\n",
       "education                      0.058691\n",
       "behavioral_wash_hands          0.025305\n",
       "behavioral_antiviral_meds      0.022614\n",
       "child_under_6_months           0.021100\n",
       "behavioral_face_mask           0.015229\n",
       "opinion_h1n1_vacc_effective    0.007466\n",
       "employment_status              0.003864\n",
       "sex                           -0.003282\n",
       "behavioral_avoidance          -0.003302\n",
       "h1n1_concern                  -0.004085\n",
       "hhs_geo_region                -0.006643\n",
       "income_poverty                -0.007883\n",
       "behavioral_large_gatherings   -0.018002\n",
       "behavioral_outside_home       -0.022032\n",
       "household_children            -0.039170\n",
       "census_msa                    -0.050696\n",
       "household_adults              -0.053395\n",
       "opinion_h1n1_sick_from_vacc   -0.091468\n",
       "doctor_recc_h1n1              -0.105002\n",
       "marital_status                -0.134384\n",
       "rent_or_own                   -0.179043\n",
       "opinion_seas_sick_from_vacc   -0.265276\n",
       "dtype: float64"
      ]
     },
     "execution_count": 73,
     "metadata": {},
     "output_type": "execute_result"
    }
   ],
   "source": [
    "pd.Series(log_model_pipe.named_steps['log'].coef_[0], index=cols).sort_values(ascending=False)"
   ]
  },
  {
   "cell_type": "code",
   "execution_count": 77,
   "metadata": {},
   "outputs": [
    {
     "data": {
      "text/plain": [
       "seasonal_vaccine    0\n",
       "Name: 25303, dtype: int64"
      ]
     },
     "execution_count": 77,
     "metadata": {},
     "output_type": "execute_result"
    }
   ],
   "source": []
  },
  {
   "cell_type": "code",
   "execution_count": 75,
   "metadata": {},
   "outputs": [
    {
     "name": "stderr",
     "output_type": "stream",
     "text": [
      "c:\\Users\\DJ\\anaconda3\\lib\\site-packages\\sklearn\\utils\\validation.py:993: DataConversionWarning: A column-vector y was passed when a 1d array was expected. Please change the shape of y to (n_samples, ), for example using ravel().\n",
      "  y = column_or_1d(y, warn=True)\n"
     ]
    },
    {
     "data": {
      "text/html": [
       "<style>#sk-bbf96fc8-3270-49b1-8b3a-db97e470679f {color: black;background-color: white;}#sk-bbf96fc8-3270-49b1-8b3a-db97e470679f pre{padding: 0;}#sk-bbf96fc8-3270-49b1-8b3a-db97e470679f div.sk-toggleable {background-color: white;}#sk-bbf96fc8-3270-49b1-8b3a-db97e470679f label.sk-toggleable__label {cursor: pointer;display: block;width: 100%;margin-bottom: 0;padding: 0.3em;box-sizing: border-box;text-align: center;}#sk-bbf96fc8-3270-49b1-8b3a-db97e470679f label.sk-toggleable__label-arrow:before {content: \"▸\";float: left;margin-right: 0.25em;color: #696969;}#sk-bbf96fc8-3270-49b1-8b3a-db97e470679f label.sk-toggleable__label-arrow:hover:before {color: black;}#sk-bbf96fc8-3270-49b1-8b3a-db97e470679f div.sk-estimator:hover label.sk-toggleable__label-arrow:before {color: black;}#sk-bbf96fc8-3270-49b1-8b3a-db97e470679f div.sk-toggleable__content {max-height: 0;max-width: 0;overflow: hidden;text-align: left;background-color: #f0f8ff;}#sk-bbf96fc8-3270-49b1-8b3a-db97e470679f div.sk-toggleable__content pre {margin: 0.2em;color: black;border-radius: 0.25em;background-color: #f0f8ff;}#sk-bbf96fc8-3270-49b1-8b3a-db97e470679f input.sk-toggleable__control:checked~div.sk-toggleable__content {max-height: 200px;max-width: 100%;overflow: auto;}#sk-bbf96fc8-3270-49b1-8b3a-db97e470679f input.sk-toggleable__control:checked~label.sk-toggleable__label-arrow:before {content: \"▾\";}#sk-bbf96fc8-3270-49b1-8b3a-db97e470679f div.sk-estimator input.sk-toggleable__control:checked~label.sk-toggleable__label {background-color: #d4ebff;}#sk-bbf96fc8-3270-49b1-8b3a-db97e470679f div.sk-label input.sk-toggleable__control:checked~label.sk-toggleable__label {background-color: #d4ebff;}#sk-bbf96fc8-3270-49b1-8b3a-db97e470679f input.sk-hidden--visually {border: 0;clip: rect(1px 1px 1px 1px);clip: rect(1px, 1px, 1px, 1px);height: 1px;margin: -1px;overflow: hidden;padding: 0;position: absolute;width: 1px;}#sk-bbf96fc8-3270-49b1-8b3a-db97e470679f div.sk-estimator {font-family: monospace;background-color: #f0f8ff;border: 1px dotted black;border-radius: 0.25em;box-sizing: border-box;margin-bottom: 0.5em;}#sk-bbf96fc8-3270-49b1-8b3a-db97e470679f div.sk-estimator:hover {background-color: #d4ebff;}#sk-bbf96fc8-3270-49b1-8b3a-db97e470679f div.sk-parallel-item::after {content: \"\";width: 100%;border-bottom: 1px solid gray;flex-grow: 1;}#sk-bbf96fc8-3270-49b1-8b3a-db97e470679f div.sk-label:hover label.sk-toggleable__label {background-color: #d4ebff;}#sk-bbf96fc8-3270-49b1-8b3a-db97e470679f div.sk-serial::before {content: \"\";position: absolute;border-left: 1px solid gray;box-sizing: border-box;top: 2em;bottom: 0;left: 50%;}#sk-bbf96fc8-3270-49b1-8b3a-db97e470679f div.sk-serial {display: flex;flex-direction: column;align-items: center;background-color: white;padding-right: 0.2em;padding-left: 0.2em;}#sk-bbf96fc8-3270-49b1-8b3a-db97e470679f div.sk-item {z-index: 1;}#sk-bbf96fc8-3270-49b1-8b3a-db97e470679f div.sk-parallel {display: flex;align-items: stretch;justify-content: center;background-color: white;}#sk-bbf96fc8-3270-49b1-8b3a-db97e470679f div.sk-parallel::before {content: \"\";position: absolute;border-left: 1px solid gray;box-sizing: border-box;top: 2em;bottom: 0;left: 50%;}#sk-bbf96fc8-3270-49b1-8b3a-db97e470679f div.sk-parallel-item {display: flex;flex-direction: column;position: relative;background-color: white;}#sk-bbf96fc8-3270-49b1-8b3a-db97e470679f div.sk-parallel-item:first-child::after {align-self: flex-end;width: 50%;}#sk-bbf96fc8-3270-49b1-8b3a-db97e470679f div.sk-parallel-item:last-child::after {align-self: flex-start;width: 50%;}#sk-bbf96fc8-3270-49b1-8b3a-db97e470679f div.sk-parallel-item:only-child::after {width: 0;}#sk-bbf96fc8-3270-49b1-8b3a-db97e470679f div.sk-dashed-wrapped {border: 1px dashed gray;margin: 0 0.4em 0.5em 0.4em;box-sizing: border-box;padding-bottom: 0.4em;background-color: white;position: relative;}#sk-bbf96fc8-3270-49b1-8b3a-db97e470679f div.sk-label label {font-family: monospace;font-weight: bold;background-color: white;display: inline-block;line-height: 1.2em;}#sk-bbf96fc8-3270-49b1-8b3a-db97e470679f div.sk-label-container {position: relative;z-index: 2;text-align: center;}#sk-bbf96fc8-3270-49b1-8b3a-db97e470679f div.sk-container {/* jupyter's `normalize.less` sets `[hidden] { display: none; }` but bootstrap.min.css set `[hidden] { display: none !important; }` so we also need the `!important` here to be able to override the default hidden behavior on the sphinx rendered scikit-learn.org. See: https://github.com/scikit-learn/scikit-learn/issues/21755 */display: inline-block !important;position: relative;}#sk-bbf96fc8-3270-49b1-8b3a-db97e470679f div.sk-text-repr-fallback {display: none;}</style><div id=\"sk-bbf96fc8-3270-49b1-8b3a-db97e470679f\" class=\"sk-top-container\"><div class=\"sk-text-repr-fallback\"><pre>Pipeline(steps=[(&#x27;trans&#x27;,\n",
       "                 ColumnTransformer(transformers=[(&#x27;numerical&#x27;,\n",
       "                                                  Pipeline(steps=[(&#x27;impute_nums&#x27;,\n",
       "                                                                   SimpleImputer(strategy=&#x27;median&#x27;)),\n",
       "                                                                  (&#x27;scaler&#x27;,\n",
       "                                                                   StandardScaler())]),\n",
       "                                                  &lt;sklearn.compose._column_transformer.make_column_selector object at 0x000001A8E7136D90&gt;),\n",
       "                                                 (&#x27;categorical&#x27;,\n",
       "                                                  Pipeline(steps=[(&#x27;cat_impute&#x27;,\n",
       "                                                                   SimpleImputer(strategy=&#x27;most_frequent&#x27;)),\n",
       "                                                                  (&#x27;encode&#x27;,\n",
       "                                                                   OrdinalEncoder())]),\n",
       "                                                  &lt;sklearn.compose._column_transformer.make_column_selector object at 0x000001A8E7136DC0&gt;)])),\n",
       "                (&#x27;log&#x27;, LogisticRegression(random_state=50))])</pre><b>Please rerun this cell to show the HTML repr or trust the notebook.</b></div><div class=\"sk-container\" hidden><div class=\"sk-item sk-dashed-wrapped\"><div class=\"sk-label-container\"><div class=\"sk-label sk-toggleable\"><input class=\"sk-toggleable__control sk-hidden--visually\" id=\"c6f0ecdf-9b38-43b2-aea0-89cf3ae932ea\" type=\"checkbox\" ><label for=\"c6f0ecdf-9b38-43b2-aea0-89cf3ae932ea\" class=\"sk-toggleable__label sk-toggleable__label-arrow\">Pipeline</label><div class=\"sk-toggleable__content\"><pre>Pipeline(steps=[(&#x27;trans&#x27;,\n",
       "                 ColumnTransformer(transformers=[(&#x27;numerical&#x27;,\n",
       "                                                  Pipeline(steps=[(&#x27;impute_nums&#x27;,\n",
       "                                                                   SimpleImputer(strategy=&#x27;median&#x27;)),\n",
       "                                                                  (&#x27;scaler&#x27;,\n",
       "                                                                   StandardScaler())]),\n",
       "                                                  &lt;sklearn.compose._column_transformer.make_column_selector object at 0x000001A8E7136D90&gt;),\n",
       "                                                 (&#x27;categorical&#x27;,\n",
       "                                                  Pipeline(steps=[(&#x27;cat_impute&#x27;,\n",
       "                                                                   SimpleImputer(strategy=&#x27;most_frequent&#x27;)),\n",
       "                                                                  (&#x27;encode&#x27;,\n",
       "                                                                   OrdinalEncoder())]),\n",
       "                                                  &lt;sklearn.compose._column_transformer.make_column_selector object at 0x000001A8E7136DC0&gt;)])),\n",
       "                (&#x27;log&#x27;, LogisticRegression(random_state=50))])</pre></div></div></div><div class=\"sk-serial\"><div class=\"sk-item sk-dashed-wrapped\"><div class=\"sk-label-container\"><div class=\"sk-label sk-toggleable\"><input class=\"sk-toggleable__control sk-hidden--visually\" id=\"e32c18f8-57df-4662-9491-23670e662e83\" type=\"checkbox\" ><label for=\"e32c18f8-57df-4662-9491-23670e662e83\" class=\"sk-toggleable__label sk-toggleable__label-arrow\">trans: ColumnTransformer</label><div class=\"sk-toggleable__content\"><pre>ColumnTransformer(transformers=[(&#x27;numerical&#x27;,\n",
       "                                 Pipeline(steps=[(&#x27;impute_nums&#x27;,\n",
       "                                                  SimpleImputer(strategy=&#x27;median&#x27;)),\n",
       "                                                 (&#x27;scaler&#x27;, StandardScaler())]),\n",
       "                                 &lt;sklearn.compose._column_transformer.make_column_selector object at 0x000001A8E7136D90&gt;),\n",
       "                                (&#x27;categorical&#x27;,\n",
       "                                 Pipeline(steps=[(&#x27;cat_impute&#x27;,\n",
       "                                                  SimpleImputer(strategy=&#x27;most_frequent&#x27;)),\n",
       "                                                 (&#x27;encode&#x27;, OrdinalEncoder())]),\n",
       "                                 &lt;sklearn.compose._column_transformer.make_column_selector object at 0x000001A8E7136DC0&gt;)])</pre></div></div></div><div class=\"sk-parallel\"><div class=\"sk-parallel-item\"><div class=\"sk-item\"><div class=\"sk-label-container\"><div class=\"sk-label sk-toggleable\"><input class=\"sk-toggleable__control sk-hidden--visually\" id=\"dd4e041c-a853-4d80-9978-6fa756cbd965\" type=\"checkbox\" ><label for=\"dd4e041c-a853-4d80-9978-6fa756cbd965\" class=\"sk-toggleable__label sk-toggleable__label-arrow\">numerical</label><div class=\"sk-toggleable__content\"><pre>&lt;sklearn.compose._column_transformer.make_column_selector object at 0x000001A8E7136D90&gt;</pre></div></div></div><div class=\"sk-serial\"><div class=\"sk-item\"><div class=\"sk-serial\"><div class=\"sk-item\"><div class=\"sk-estimator sk-toggleable\"><input class=\"sk-toggleable__control sk-hidden--visually\" id=\"9425f02e-af75-43ed-83ae-8b6f25233e21\" type=\"checkbox\" ><label for=\"9425f02e-af75-43ed-83ae-8b6f25233e21\" class=\"sk-toggleable__label sk-toggleable__label-arrow\">SimpleImputer</label><div class=\"sk-toggleable__content\"><pre>SimpleImputer(strategy=&#x27;median&#x27;)</pre></div></div></div><div class=\"sk-item\"><div class=\"sk-estimator sk-toggleable\"><input class=\"sk-toggleable__control sk-hidden--visually\" id=\"d72571c2-e0af-4ea9-a275-bce152325c82\" type=\"checkbox\" ><label for=\"d72571c2-e0af-4ea9-a275-bce152325c82\" class=\"sk-toggleable__label sk-toggleable__label-arrow\">StandardScaler</label><div class=\"sk-toggleable__content\"><pre>StandardScaler()</pre></div></div></div></div></div></div></div></div><div class=\"sk-parallel-item\"><div class=\"sk-item\"><div class=\"sk-label-container\"><div class=\"sk-label sk-toggleable\"><input class=\"sk-toggleable__control sk-hidden--visually\" id=\"35c62d23-90ce-4763-a955-10ab7f857fee\" type=\"checkbox\" ><label for=\"35c62d23-90ce-4763-a955-10ab7f857fee\" class=\"sk-toggleable__label sk-toggleable__label-arrow\">categorical</label><div class=\"sk-toggleable__content\"><pre>&lt;sklearn.compose._column_transformer.make_column_selector object at 0x000001A8E7136DC0&gt;</pre></div></div></div><div class=\"sk-serial\"><div class=\"sk-item\"><div class=\"sk-serial\"><div class=\"sk-item\"><div class=\"sk-estimator sk-toggleable\"><input class=\"sk-toggleable__control sk-hidden--visually\" id=\"8d7776d6-7667-4b60-86a1-baced880c1ec\" type=\"checkbox\" ><label for=\"8d7776d6-7667-4b60-86a1-baced880c1ec\" class=\"sk-toggleable__label sk-toggleable__label-arrow\">SimpleImputer</label><div class=\"sk-toggleable__content\"><pre>SimpleImputer(strategy=&#x27;most_frequent&#x27;)</pre></div></div></div><div class=\"sk-item\"><div class=\"sk-estimator sk-toggleable\"><input class=\"sk-toggleable__control sk-hidden--visually\" id=\"1da1e433-ec16-465c-a04e-90995a69096b\" type=\"checkbox\" ><label for=\"1da1e433-ec16-465c-a04e-90995a69096b\" class=\"sk-toggleable__label sk-toggleable__label-arrow\">OrdinalEncoder</label><div class=\"sk-toggleable__content\"><pre>OrdinalEncoder()</pre></div></div></div></div></div></div></div></div></div></div><div class=\"sk-item\"><div class=\"sk-estimator sk-toggleable\"><input class=\"sk-toggleable__control sk-hidden--visually\" id=\"f91d38c7-8656-4960-ba1e-2196980ec600\" type=\"checkbox\" ><label for=\"f91d38c7-8656-4960-ba1e-2196980ec600\" class=\"sk-toggleable__label sk-toggleable__label-arrow\">LogisticRegression</label><div class=\"sk-toggleable__content\"><pre>LogisticRegression(random_state=50)</pre></div></div></div></div></div></div></div>"
      ],
      "text/plain": [
       "Pipeline(steps=[('trans',\n",
       "                 ColumnTransformer(transformers=[('numerical',\n",
       "                                                  Pipeline(steps=[('impute_nums',\n",
       "                                                                   SimpleImputer(strategy='median')),\n",
       "                                                                  ('scaler',\n",
       "                                                                   StandardScaler())]),\n",
       "                                                  <sklearn.compose._column_transformer.make_column_selector object at 0x000001A8E7136D90>),\n",
       "                                                 ('categorical',\n",
       "                                                  Pipeline(steps=[('cat_impute',\n",
       "                                                                   SimpleImputer(strategy='most_frequent')),\n",
       "                                                                  ('encode',\n",
       "                                                                   OrdinalEncoder())]),\n",
       "                                                  <sklearn.compose._column_transformer.make_column_selector object at 0x000001A8E7136DC0>)])),\n",
       "                ('log', LogisticRegression(random_state=50))])"
      ]
     },
     "execution_count": 75,
     "metadata": {},
     "output_type": "execute_result"
    }
   ],
   "source": [
    "log_model_pipe.fit(X_train[['opinion_seas_risk', 'doctor_recc_seasonal', 'opinion_seas_vacc_effective']],y_train)"
   ]
  },
  {
   "cell_type": "code",
   "execution_count": 78,
   "metadata": {},
   "outputs": [
    {
     "data": {
      "text/plain": [
       "0.7404393409885173"
      ]
     },
     "execution_count": 78,
     "metadata": {},
     "output_type": "execute_result"
    }
   ],
   "source": [
    "log_model_pipe.score(X_train[['opinion_seas_risk', 'doctor_recc_seasonal', 'opinion_seas_vacc_effective']], y_train)"
   ]
  },
  {
   "cell_type": "code",
   "execution_count": 79,
   "metadata": {},
   "outputs": [
    {
     "data": {
      "text/plain": [
       "0.7296690130298038"
      ]
     },
     "execution_count": 79,
     "metadata": {},
     "output_type": "execute_result"
    }
   ],
   "source": [
    "log_model_pipe.score(X_test[['opinion_seas_risk', 'doctor_recc_seasonal', 'opinion_seas_vacc_effective']], y_test)"
   ]
  },
  {
   "cell_type": "code",
   "execution_count": null,
   "metadata": {},
   "outputs": [],
   "source": []
  }
 ],
 "metadata": {
  "kernelspec": {
   "display_name": "base",
   "language": "python",
   "name": "python3"
  },
  "language_info": {
   "codemirror_mode": {
    "name": "ipython",
    "version": 3
   },
   "file_extension": ".py",
   "mimetype": "text/x-python",
   "name": "python",
   "nbconvert_exporter": "python",
   "pygments_lexer": "ipython3",
   "version": "3.9.13"
  },
  "orig_nbformat": 4
 },
 "nbformat": 4,
 "nbformat_minor": 2
}
